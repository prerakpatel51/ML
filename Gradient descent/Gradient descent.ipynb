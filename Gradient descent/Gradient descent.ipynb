{
 "cells": [
  {
   "cell_type": "code",
   "execution_count": 1,
   "id": "abe4a1b2-b0e8-4ae4-ad77-f234be8872a2",
   "metadata": {},
   "outputs": [],
   "source": [
    "import pandas as pd \n",
    "import numpy as np \n",
    "from sklearn.datasets import make_regression\n",
    "\n"
   ]
  },
  {
   "cell_type": "code",
   "execution_count": 7,
   "id": "5bca9a89-1d98-4eeb-a826-1c9a76f763c0",
   "metadata": {},
   "outputs": [],
   "source": [
    "\n",
    "X,y=make_regression(n_samples=100,n_features=1,n_informative=1,n_targets=1,noise=20,random_state=13)"
   ]
  },
  {
   "cell_type": "code",
   "execution_count": 12,
   "id": "a1aeb5ef-0756-405f-bd50-7cbf1750d77b",
   "metadata": {},
   "outputs": [],
   "source": [
    "class GDRegressor:\n",
    "    \n",
    "    def __init__(self,learning_rate,epochs):\n",
    "        self.m = 100\n",
    "        self.b = -120\n",
    "        self.lr = learning_rate\n",
    "        self.epochs = epochs\n",
    "        \n",
    "    def fit(self,X,y):\n",
    "        # calcualte the b using GD\n",
    "        for i in range(self.epochs):\n",
    "            loss_slope_b = -2 * np.sum(y - self.m*X.ravel() - self.b)\n",
    "            loss_slope_m = -2 * np.sum((y - self.m*X.ravel() - self.b)*X.ravel())\n",
    "            \n",
    "            self.b = self.b - (self.lr * loss_slope_b)\n",
    "            self.m = self.m - (self.lr * loss_slope_m)\n",
    "        print(self.m,self.b)\n",
    "        \n",
    "    def predict(self,X):\n",
    "        return self.m * X + self.b\n",
    "    "
   ]
  },
  {
   "cell_type": "code",
   "execution_count": 13,
   "id": "2e64cce5-2a8c-4d16-a9fa-1f8161ecf326",
   "metadata": {},
   "outputs": [
    {
     "name": "stdout",
     "output_type": "stream",
     "text": [
      "27.837060471820052 -2.29918393082932\n"
     ]
    }
   ],
   "source": [
    "model=GDRegressor(0.001,50)\n",
    "model.fit(X,y)\n"
   ]
  },
  {
   "cell_type": "code",
   "execution_count": 14,
   "id": "a5be0af4-bbfd-4ad6-83f8-f60708feaac3",
   "metadata": {},
   "outputs": [],
   "source": [
    "y_pred=model.predict(X)"
   ]
  },
  {
   "cell_type": "code",
   "execution_count": 15,
   "id": "0295d4ee-e4fd-4518-ba37-9204bf63c6ae",
   "metadata": {},
   "outputs": [
    {
     "data": {
      "text/plain": [
       "array([[-22.13004587],\n",
       "       [-14.46803398],\n",
       "       [-14.93031641],\n",
       "       [ 24.22481941],\n",
       "       [  4.3220791 ],\n",
       "       [ 21.67440917],\n",
       "       [ -9.07267152],\n",
       "       [  2.84916767],\n",
       "       [-22.36969544],\n",
       "       [-14.266255  ],\n",
       "       [ 53.79864004],\n",
       "       [  8.75884689],\n",
       "       [  3.48535872],\n",
       "       [ -8.76923699],\n",
       "       [-23.69550079],\n",
       "       [ 10.31541979],\n",
       "       [ 15.51330493],\n",
       "       [  7.70913832],\n",
       "       [-47.25904197],\n",
       "       [ 46.39456556],\n",
       "       [-24.26231913],\n",
       "       [-16.55078722],\n",
       "       [-28.14130775],\n",
       "       [ 57.56115677],\n",
       "       [ -8.07119002],\n",
       "       [-47.92672634],\n",
       "       [-11.72532075],\n",
       "       [-11.26615965],\n",
       "       [-15.69914914],\n",
       "       [-16.86253782],\n",
       "       [ 17.79820103],\n",
       "       [ 19.02152826],\n",
       "       [ 10.32439521],\n",
       "       [-37.41858492],\n",
       "       [-63.18204405],\n",
       "       [-35.29775901],\n",
       "       [  3.75403106],\n",
       "       [ 34.73292872],\n",
       "       [-32.56312362],\n",
       "       [ 13.35252918],\n",
       "       [-44.41234489],\n",
       "       [ -2.36568738],\n",
       "       [-10.04163129],\n",
       "       [ 10.27794346],\n",
       "       [ 30.84655074],\n",
       "       [ 23.3761659 ],\n",
       "       [ 20.3878935 ],\n",
       "       [-19.58543346],\n",
       "       [ 23.13667133],\n",
       "       [ 29.38866195],\n",
       "       [ 38.86308036],\n",
       "       [-20.42268251],\n",
       "       [-12.76369062],\n",
       "       [-23.86344212],\n",
       "       [ 11.65100525],\n",
       "       [ 35.28607828],\n",
       "       [ 17.99863937],\n",
       "       [ -4.57212324],\n",
       "       [-26.07601298],\n",
       "       [ 10.6633652 ],\n",
       "       [ -3.53801881],\n",
       "       [ -3.90071649],\n",
       "       [ 50.38919567],\n",
       "       [-31.39941033],\n",
       "       [ 13.41913163],\n",
       "       [-55.86212687],\n",
       "       [-23.56764375],\n",
       "       [  1.24456518],\n",
       "       [ -3.04442797],\n",
       "       [ -6.34144058],\n",
       "       [ 13.36881607],\n",
       "       [  6.5349329 ],\n",
       "       [ 17.49226443],\n",
       "       [ 18.68345633],\n",
       "       [-12.60212758],\n",
       "       [ 35.14449367],\n",
       "       [ 12.51953806],\n",
       "       [-29.69532713],\n",
       "       [ 35.28936573],\n",
       "       [-11.94769804],\n",
       "       [ 12.01821951],\n",
       "       [  0.51986922],\n",
       "       [-20.60253187],\n",
       "       [ 20.83078711],\n",
       "       [-11.13093595],\n",
       "       [-29.58713941],\n",
       "       [ 36.65150059],\n",
       "       [ 12.95325119],\n",
       "       [-17.06194005],\n",
       "       [ 11.36524495],\n",
       "       [  7.40900744],\n",
       "       [ 54.86959888],\n",
       "       [ 14.57811007],\n",
       "       [-13.00135576],\n",
       "       [-56.45314197],\n",
       "       [-11.06390724],\n",
       "       [ 49.18859292],\n",
       "       [-33.49080147],\n",
       "       [-11.5598996 ],\n",
       "       [-23.38445518]])"
      ]
     },
     "execution_count": 15,
     "metadata": {},
     "output_type": "execute_result"
    }
   ],
   "source": [
    "y_pred"
   ]
  },
  {
   "cell_type": "code",
   "execution_count": null,
   "id": "d7421514-418c-471c-9603-75692b6d1260",
   "metadata": {},
   "outputs": [],
   "source": []
  }
 ],
 "metadata": {
  "kernelspec": {
   "display_name": "Python 3 (ipykernel)",
   "language": "python",
   "name": "python3"
  },
  "language_info": {
   "codemirror_mode": {
    "name": "ipython",
    "version": 3
   },
   "file_extension": ".py",
   "mimetype": "text/x-python",
   "name": "python",
   "nbconvert_exporter": "python",
   "pygments_lexer": "ipython3",
   "version": "3.11.4"
  }
 },
 "nbformat": 4,
 "nbformat_minor": 5
}
