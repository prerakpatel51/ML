{
 "cells": [
  {
   "cell_type": "code",
   "execution_count": 1,
   "id": "9c37e30b-0b63-49cb-9bed-dbe6821eef87",
   "metadata": {},
   "outputs": [],
   "source": [
    "import numpy as np \n",
    "import pandas as pd \n",
    "import matplotlib.pyplot as plt \n",
    "from sklearn.linear_model import LinearRegression\n",
    "from sklearn.datasets import make_regression\n"
   ]
  },
  {
   "cell_type": "code",
   "execution_count": 7,
   "id": "72983f61-fdb9-4430-8212-d0f37d15b05e",
   "metadata": {},
   "outputs": [
    {
     "data": {
      "text/plain": [
       "<matplotlib.collections.PathCollection at 0x16aa43c10>"
      ]
     },
     "execution_count": 7,
     "metadata": {},
     "output_type": "execute_result"
    },
    {
     "data": {
      "image/png": "[encoded data removed]",
      "text/plain": [
       "<Figure size 640x480 with 1 Axes>"
      ]
     },
     "metadata": {},
     "output_type": "display_data"
    }
   ],
   "source": [
    "X,y=make_regression(n_samples=100,n_features=1,n_informative=1,n_targets=1,noise=20)\n",
    "plt.scatter(X,y)"
   ]
  },
  {
   "cell_type": "code",
   "execution_count": 8,
   "id": "0bab9ad6-1e87-4c52-9aaf-1443efeda4c6",
   "metadata": {},
   "outputs": [
    {
     "data": {
      "text/html": [
       "<style>#sk-container-id-2 {color: black;}#sk-container-id-2 pre{padding: 0;}#sk-container-id-2 div.sk-toggleable {background-color: white;}#sk-container-id-2 label.sk-toggleable__label {cursor: pointer;display: block;width: 100%;margin-bottom: 0;padding: 0.3em;box-sizing: border-box;text-align: center;}#sk-container-id-2 label.sk-toggleable__label-arrow:before {content: \"▸\";float: left;margin-right: 0.25em;color: #696969;}#sk-container-id-2 label.sk-toggleable__label-arrow:hover:before {color: black;}#sk-container-id-2 div.sk-estimator:hover label.sk-toggleable__label-arrow:before {color: black;}#sk-container-id-2 div.sk-toggleable__content {max-height: 0;max-width: 0;overflow: hidden;text-align: left;background-color: #f0f8ff;}#sk-container-id-2 div.sk-toggleable__content pre {margin: 0.2em;color: black;border-radius: 0.25em;background-color: #f0f8ff;}#sk-container-id-2 input.sk-toggleable__control:checked~div.sk-toggleable__content {max-height: 200px;max-width: 100%;overflow: auto;}#sk-container-id-2 input.sk-toggleable__control:checked~label.sk-toggleable__label-arrow:before {content: \"▾\";}#sk-container-id-2 div.sk-estimator input.sk-toggleable__control:checked~label.sk-toggleable__label {background-color: #d4ebff;}#sk-container-id-2 div.sk-label input.sk-toggleable__control:checked~label.sk-toggleable__label {background-color: #d4ebff;}#sk-container-id-2 input.sk-hidden--visually {border: 0;clip: rect(1px 1px 1px 1px);clip: rect(1px, 1px, 1px, 1px);height: 1px;margin: -1px;overflow: hidden;padding: 0;position: absolute;width: 1px;}#sk-container-id-2 div.sk-estimator {font-family: monospace;background-color: #f0f8ff;border: 1px dotted black;border-radius: 0.25em;box-sizing: border-box;margin-bottom: 0.5em;}#sk-container-id-2 div.sk-estimator:hover {background-color: #d4ebff;}#sk-container-id-2 div.sk-parallel-item::after {content: \"\";width: 100%;border-bottom: 1px solid gray;flex-grow: 1;}#sk-container-id-2 div.sk-label:hover label.sk-toggleable__label {background-color: #d4ebff;}#sk-container-id-2 div.sk-serial::before {content: \"\";position: absolute;border-left: 1px solid gray;box-sizing: border-box;top: 0;bottom: 0;left: 50%;z-index: 0;}#sk-container-id-2 div.sk-serial {display: flex;flex-direction: column;align-items: center;background-color: white;padding-right: 0.2em;padding-left: 0.2em;position: relative;}#sk-container-id-2 div.sk-item {position: relative;z-index: 1;}#sk-container-id-2 div.sk-parallel {display: flex;align-items: stretch;justify-content: center;background-color: white;position: relative;}#sk-container-id-2 div.sk-item::before, #sk-container-id-2 div.sk-parallel-item::before {content: \"\";position: absolute;border-left: 1px solid gray;box-sizing: border-box;top: 0;bottom: 0;left: 50%;z-index: -1;}#sk-container-id-2 div.sk-parallel-item {display: flex;flex-direction: column;z-index: 1;position: relative;background-color: white;}#sk-container-id-2 div.sk-parallel-item:first-child::after {align-self: flex-end;width: 50%;}#sk-container-id-2 div.sk-parallel-item:last-child::after {align-self: flex-start;width: 50%;}#sk-container-id-2 div.sk-parallel-item:only-child::after {width: 0;}#sk-container-id-2 div.sk-dashed-wrapped {border: 1px dashed gray;margin: 0 0.4em 0.5em 0.4em;box-sizing: border-box;padding-bottom: 0.4em;background-color: white;}#sk-container-id-2 div.sk-label label {font-family: monospace;font-weight: bold;display: inline-block;line-height: 1.2em;}#sk-container-id-2 div.sk-label-container {text-align: center;}#sk-container-id-2 div.sk-container {/* jupyter's `normalize.less` sets `[hidden] { display: none; }` but bootstrap.min.css set `[hidden] { display: none !important; }` so we also need the `!important` here to be able to override the default hidden behavior on the sphinx rendered scikit-learn.org. See: https://github.com/scikit-learn/scikit-learn/issues/21755 */display: inline-block !important;position: relative;}#sk-container-id-2 div.sk-text-repr-fallback {display: none;}</style><div id=\"sk-container-id-2\" class=\"sk-top-container\"><div class=\"sk-text-repr-fallback\"><pre>LinearRegression()</pre><b>In a Jupyter environment, please rerun this cell to show the HTML representation or trust the notebook. <br />On GitHub, the HTML representation is unable to render, please try loading this page with nbviewer.org.</b></div><div class=\"sk-container\" hidden><div class=\"sk-item\"><div class=\"sk-estimator sk-toggleable\"><input class=\"sk-toggleable__control sk-hidden--visually\" id=\"sk-estimator-id-2\" type=\"checkbox\" checked><label for=\"sk-estimator-id-2\" class=\"sk-toggleable__label sk-toggleable__label-arrow\">LinearRegression</label><div class=\"sk-toggleable__content\"><pre>LinearRegression()</pre></div></div></div></div></div>"
      ],
      "text/plain": [
       "LinearRegression()"
      ]
     },
     "execution_count": 8,
     "metadata": {},
     "output_type": "execute_result"
    }
   ],
   "source": [
    "model=LinearRegression()\n",
    "model.fit(X,y)"
   ]
  },
  {
   "cell_type": "code",
   "execution_count": 9,
   "id": "653f7fba-4b85-4f0d-89bb-cd98fb24ca2f",
   "metadata": {},
   "outputs": [
    {
     "data": {
      "text/plain": [
       "array([82.04490759])"
      ]
     },
     "execution_count": 9,
     "metadata": {},
     "output_type": "execute_result"
    }
   ],
   "source": [
    "model.coef_"
   ]
  },
  {
   "cell_type": "code",
   "execution_count": 10,
   "id": "ce2bdece-bd20-43fa-94d9-c3f8b2a9b599",
   "metadata": {},
   "outputs": [
    {
     "data": {
      "text/plain": [
       "-0.692165438119712"
      ]
     },
     "execution_count": 10,
     "metadata": {},
     "output_type": "execute_result"
    }
   ],
   "source": [
    "model.intercept_"
   ]
  },
  {
   "cell_type": "code",
   "execution_count": 45,
   "id": "3ead4462-0c86-4fa9-90bf-54d0f3a13477",
   "metadata": {},
   "outputs": [],
   "source": [
    "class GDRegressor:\n",
    "    def __init__(self,learning_rate,epoch):\n",
    "        self.m=82.044\n",
    "        self.b=-120\n",
    "        self.lr=learning_rate\n",
    "        self.epoch=epoch\n",
    "\n",
    "    def fit(self,X,y):\n",
    "        for i in range(self.epoch):\n",
    "            loss_slope=-2*np.sum(y-(self.m)*X.ravel() -self.b)\n",
    "            self.b=self.b-(self.lr*(loss_slope))\n",
    "            print(self.b)\n",
    "        print(self.b)"
   ]
  },
  {
   "cell_type": "code",
   "execution_count": 46,
   "id": "9176eaa6-856d-4787-a9ae-3106a925652d",
   "metadata": {},
   "outputs": [],
   "source": [
    "model=GDRegressor(0.001,100)"
   ]
  },
  {
   "cell_type": "code",
   "execution_count": 47,
   "id": "b731fb3b-a30b-4ba6-b58f-f17530487b65",
   "metadata": {},
   "outputs": [
    {
     "name": "stdout",
     "output_type": "stream",
     "text": [
      "-96.13842879126996\n",
      "-77.04917182428593\n",
      "-61.777766250698704\n",
      "-49.56064179182892\n",
      "-39.786942224733096\n",
      "-31.96798257105644\n",
      "-25.712814848115112\n",
      "-20.70868066976205\n",
      "-16.7053733270796\n",
      "-13.50272745293364\n",
      "-10.940610753616872\n",
      "-8.890917394163457\n",
      "-7.251162706600726\n",
      "-5.939358956550541\n",
      "-4.889915956510394\n",
      "-4.050361556478276\n",
      "-3.3787180364525806\n",
      "-2.8414032204320248\n",
      "-2.41155136761558\n",
      "-2.0676698853624247\n",
      "-1.7925646995599003\n",
      "-1.5724805509178805\n",
      "-1.3964132320042648\n",
      "-1.2555593768733726\n",
      "-1.1428762927686587\n",
      "-1.0527298254848871\n",
      "-0.9806126516578701\n",
      "-0.9229189125962565\n",
      "-0.8767639213469657\n",
      "-0.8398399283475331\n",
      "-0.8103007339479872\n",
      "-0.7866693784283503\n",
      "-0.7677642940126409\n",
      "-0.7526402264800732\n",
      "-0.7405409724540192\n",
      "-0.7308615692331757\n",
      "-0.7231180466565009\n",
      "-0.7169232285951611\n",
      "-0.7119673741460893\n",
      "-0.7080026905868321\n",
      "-0.7048309437394262\n",
      "-0.7022935462615016\n",
      "-0.700263628279162\n",
      "-0.6986396938932902\n",
      "-0.6973405463845926\n",
      "-0.6963012283776346\n",
      "-0.6954697739720681\n",
      "-0.694804610447615\n",
      "-0.6942724796280525\n",
      "-0.6938467749724025\n",
      "-0.6935062112478826\n",
      "-0.6932337602682666\n",
      "-0.6930157994845738\n",
      "-0.6928414308576196\n",
      "-0.6927019359560563\n",
      "-0.6925903400348056\n",
      "-0.6925010632978051\n",
      "-0.6924296419082048\n",
      "-0.6923725047965242\n",
      "-0.69232679510718\n",
      "-0.6922902273557046\n",
      "-0.6922609731545242\n",
      "-0.6922375697935798\n",
      "-0.6922188471048245\n",
      "-0.69220386895382\n",
      "-0.6921918864330167\n",
      "-0.692182300416374\n",
      "-0.6921746316030596\n",
      "-0.6921684965524083\n",
      "-0.6921635885118872\n",
      "-0.6921596620794701\n",
      "-0.6921565209335367\n",
      "-0.6921540080167898\n",
      "-0.6921519976833924\n",
      "-0.6921503894166745\n",
      "-0.6921491028033001\n",
      "-0.6921480735126008\n",
      "-0.6921472500800413\n",
      "-0.6921465913339937\n",
      "-0.6921460643371553\n",
      "-0.692145642739685\n",
      "-0.6921453054617085\n",
      "-0.6921450356393274\n",
      "-0.6921448197814223\n",
      "-0.6921446470950984\n",
      "-0.6921445089460393\n",
      "-0.692144398426792\n",
      "-0.6921443100113942\n",
      "-0.6921442392790761\n",
      "-0.6921441826932215\n",
      "-0.6921441374245377\n",
      "-0.6921441012095909\n",
      "-0.6921440722376331\n",
      "-0.6921440490600671\n",
      "-0.6921440305180141\n",
      "-0.6921440156843717\n",
      "-0.692144003817458\n",
      "-0.6921439943239268\n",
      "-0.6921439867291019\n",
      "-0.692143980653242\n",
      "-0.692143980653242\n"
     ]
    }
   ],
   "source": [
    "model.fit(X,y)"
   ]
  },
  {
   "cell_type": "code",
   "execution_count": null,
   "id": "dac43d9a-f388-470e-a2b9-5b3a041effe9",
   "metadata": {},
   "outputs": [],
   "source": []
  },
  {
   "cell_type": "code",
   "execution_count": null,
   "id": "ff31d62b-3a2a-42a8-9dba-07b106ffb0a4",
   "metadata": {},
   "outputs": [],
   "source": []
  }
 ],
 "metadata": {
  "kernelspec": {
   "display_name": "Python 3 (ipykernel)",
   "language": "python",
   "name": "python3"
  },
  "language_info": {
   "codemirror_mode": {
    "name": "ipython",
    "version": 3
   },
   "file_extension": ".py",
   "mimetype": "text/x-python",
   "name": "python",
   "nbconvert_exporter": "python",
   "pygments_lexer": "ipython3",
   "version": "3.11.4"
  }
 },
 "nbformat": 4,
 "nbformat_minor": 5
}
