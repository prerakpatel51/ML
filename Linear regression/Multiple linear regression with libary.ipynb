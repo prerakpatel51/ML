{
 "cells": [
  {
   "cell_type": "code",
   "execution_count": 4,
   "id": "0732df24-0fa7-49c3-981e-3ba3d993e3cc",
   "metadata": {},
   "outputs": [],
   "source": [
    "import pandas as pd\n",
    "import numpy as np\n",
    "import plotly.express as plt\n",
    "from sklearn.datasets import make_regression"
   ]
  },
  {
   "cell_type": "code",
   "execution_count": 34,
   "id": "9d547a75-5880-4893-ad7a-6335b3891a2b",
   "metadata": {},
   "outputs": [],
   "source": [
    "X,y=make_regression(n_samples=100,n_features=2,n_targets=1,n_informative=2,noise=50)"
   ]
  },
  {
   "cell_type": "code",
   "execution_count": 35,
   "id": "fcc3db40-b8a4-4d0c-be4f-28d3794d5e20",
   "metadata": {},
   "outputs": [],
   "source": [
    "df=pd.DataFrame({'feature1':X[:,0],'feature2':X[:,1],\"target\":y})"
   ]
  },
  {
   "cell_type": "code",
   "execution_count": 36,
   "id": "c8489102-7e57-4a57-bf07-f4f6f4234d80",
   "metadata": {},
   "outputs": [
    {
     "data": {
      "text/html": [
       "<div>\n",
       "<style scoped>\n",
       "    .dataframe tbody tr th:only-of-type {\n",
       "        vertical-align: middle;\n",
       "    }\n",
       "\n",
       "    .dataframe tbody tr th {\n",
       "        vertical-align: top;\n",
       "    }\n",
       "\n",
       "    .dataframe thead th {\n",
       "        text-align: right;\n",
       "    }\n",
       "</style>\n",
       "<table border=\"1\" class=\"dataframe\">\n",
       "  <thead>\n",
       "    <tr style=\"text-align: right;\">\n",
       "      <th></th>\n",
       "      <th>feature1</th>\n",
       "      <th>feature2</th>\n",
       "      <th>target</th>\n",
       "    </tr>\n",
       "  </thead>\n",
       "  <tbody>\n",
       "    <tr>\n",
       "      <th>0</th>\n",
       "      <td>-0.077815</td>\n",
       "      <td>-1.598123</td>\n",
       "      <td>-82.562105</td>\n",
       "    </tr>\n",
       "    <tr>\n",
       "      <th>1</th>\n",
       "      <td>0.854410</td>\n",
       "      <td>-0.530596</td>\n",
       "      <td>33.022514</td>\n",
       "    </tr>\n",
       "    <tr>\n",
       "      <th>2</th>\n",
       "      <td>1.627203</td>\n",
       "      <td>-0.389669</td>\n",
       "      <td>110.317044</td>\n",
       "    </tr>\n",
       "    <tr>\n",
       "      <th>3</th>\n",
       "      <td>1.255453</td>\n",
       "      <td>0.344096</td>\n",
       "      <td>-21.557584</td>\n",
       "    </tr>\n",
       "    <tr>\n",
       "      <th>4</th>\n",
       "      <td>-0.390945</td>\n",
       "      <td>-0.756621</td>\n",
       "      <td>-11.980704</td>\n",
       "    </tr>\n",
       "  </tbody>\n",
       "</table>\n",
       "</div>"
      ],
      "text/plain": [
       "   feature1  feature2      target\n",
       "0 -0.077815 -1.598123  -82.562105\n",
       "1  0.854410 -0.530596   33.022514\n",
       "2  1.627203 -0.389669  110.317044\n",
       "3  1.255453  0.344096  -21.557584\n",
       "4 -0.390945 -0.756621  -11.980704"
      ]
     },
     "execution_count": 36,
     "metadata": {},
     "output_type": "execute_result"
    }
   ],
   "source": [
    "df.head()"
   ]
  },
  {
   "cell_type": "code",
   "execution_count": 38,
   "id": "784234cb-f953-4658-8b67-abde20774cfb",
   "metadata": {},
   "outputs": [
    {
     "data": {
      "application/vnd.plotly.v1+json": {
       "config": {
        "plotlyServerURL": "https://plot.ly"
       },
       "data": [
        {
         "hovertemplate": "feature1=%{x}<br>feature2=%{y}<br>target=%{z}<extra></extra>",
         "legendgroup": "",
         "marker": {
          "color": "#636efa",
          "symbol": "circle"
         },
         "mode": "markers",
         "name": "",
         "scene": "scene",
         "showlegend": false,
         "type": "scatter3d",
         "x": [
          -0.07781466074865245,
          0.8544097462790767,
          1.627202807297954,
          1.2554533609083343,
          -0.3909451085514438,
          -1.3357058531432269,
          -1.601730071784324,
          0.9140957344128198,
          -0.4412116791961652,
          -0.3341327551059233,
          -1.0465823732828774,
          0.6598058105067832,
          -1.099010625602364,
          1.3051127064101573,
          1.4369966944372299,
          0.4259631918603295,
          0.7016065885599945,
          -1.2231530377692903,
          -0.08389651041790837,
          -0.029536092686822963,
          0.875708268158035,
          0.4603999275629208,
          0.009126815750440472,
          -0.7860334889624562,
          0.3970835104046034,
          0.2784740381204711,
          -1.5745081322655403,
          1.448566999619427,
          -0.20599414172853686,
          0.42372195867506446,
          -0.7465698755542881,
          1.0185298119437514,
          1.1128714850437469,
          2.067222598410944,
          -0.05310310045328674,
          0.9376170382629815,
          -0.4827197674209697,
          -0.04260161959090078,
          -1.2058974611141497,
          0.41192372558427687,
          0.001958719860056139,
          -0.7032252029413021,
          -0.11652220241321135,
          -0.8373291528493675,
          -0.30905748515524833,
          1.5472498680098434,
          -1.2901143530295933,
          2.6588573913801365,
          -0.22496423577250532,
          1.8570530526068014,
          1.2115141754067331,
          0.5373005904462408,
          -2.3614668394833265,
          -1.4483678882362554,
          3.2918413953408376,
          -1.4077977654884946,
          2.0232136660532056,
          -0.009738808441473401,
          -0.13385393933524975,
          -0.23459649184728806,
          1.8844788055200297,
          1.206802822717396,
          -2.018816165993361,
          -0.9453779479800852,
          -1.2185490830816945,
          0.9234231825952534,
          -0.9145058698619791,
          0.5266645993968017,
          -0.3316808224975738,
          -0.9168754085845868,
          -1.5116348873793266,
          0.9321298760283554,
          -1.6395059717371094,
          -1.2293674392331913,
          0.16768810314459687,
          0.5934019021854428,
          -0.3509092973051683,
          -0.8527766785677804,
          0.0553812863545597,
          0.10038223437322066,
          0.13474840695134688,
          1.2250044588904192,
          -0.8439053744065171,
          2.00507545537079,
          -0.8098307288694868,
          0.31289995714952534,
          -1.6468326280925922,
          0.9205898743333413,
          -1.1048419525910544,
          0.16387472211439524,
          -2.1777509348245334,
          -2.053711522161748,
          2.377008060378194,
          -0.3530019039189437,
          -1.0034557631484315,
          0.3516490290011782,
          0.8144992304345882,
          -0.3227996604257595,
          0.8124794691898873,
          -1.2112964477866435
         ],
         "y": [
          -1.598122935914689,
          -0.5305963800325336,
          -0.3896691971232099,
          0.344096289237788,
          -0.7566209820753619,
          -1.0223949691928782,
          2.8814033601575573,
          1.3469504600334472,
          -1.2420782218093982,
          0.25692907285943173,
          -2.3142490754374028,
          -1.821659023565595,
          -0.6177527988355673,
          -0.39578724313939784,
          0.6228524029916461,
          -1.9831741166351655,
          0.3118704469711986,
          0.7737913818130521,
          0.6745849362036166,
          -0.018637312585139537,
          -1.5643509238321,
          -0.533464209180417,
          -0.5801024645372038,
          -1.2658669328442294,
          0.9197688906980286,
          0.4231083716994024,
          -0.782927840197278,
          -1.6755481468940057,
          0.4485872179939962,
          0.33936588713279836,
          -0.30968821603457525,
          -1.5076639229146025,
          1.1746856396936074,
          0.1404890261258624,
          0.08719802807725184,
          -0.5185334311830194,
          -1.0838736202714165,
          -0.26687508467382987,
          1.3612024883024345,
          -1.4667222652087673,
          -0.030936042477262962,
          -0.8444634065926652,
          0.7177287469768646,
          0.059234168645946036,
          0.13170376504397344,
          -0.13087772509341772,
          2.5557529225111035,
          1.022217462383853,
          -0.36925678064783657,
          0.7884550108227841,
          -0.9832909285653808,
          -0.29656290382503264,
          0.23359709551601487,
          -1.0039568088920616,
          0.43775114756440336,
          0.8003627203626742,
          -0.5333305770443788,
          -0.12199485127225863,
          0.5419277265134116,
          1.0899735416852951,
          -0.22075017049690676,
          2.4506731583924837,
          -0.01537651803331468,
          1.311618196861581,
          1.0364327669593234,
          0.2944111577541394,
          -3.2184096365061734,
          0.5308739121015135,
          0.8603842806412882,
          -0.27179714433009766,
          2.15274351404967,
          -0.653843321011799,
          0.3124455036239132,
          0.33300347646892237,
          -2.6895953860990773,
          0.14735057943638286,
          -0.6907913613602431,
          0.2923822873799445,
          -0.32273984633223024,
          -2.14073593237019,
          0.5697373673723514,
          -0.07524041467662287,
          -1.5163896569985895,
          0.6397796837172659,
          2.3318579319492336,
          0.6348157101197751,
          -0.5183185207872084,
          -2.036518721702989,
          0.8378320966740742,
          1.525040761575355,
          -1.3462417283159798,
          0.367612613583482,
          -1.5863370406925752,
          0.4925028863359149,
          1.2352359072542876,
          1.3352816464636539,
          1.378189698706249,
          0.8223665859986763,
          1.6086201192416738,
          -0.6051762113651998
         ],
         "z": [
          -82.56210483825468,
          33.02251364378772,
          110.31704386006196,
          -21.557583869853616,
          -11.980704070365789,
          -219.70895236703245,
          62.03458955247727,
          190.8643965645543,
          -110.56997126885696,
          2.210040664035944,
          -174.36507807861912,
          -122.6683649633083,
          -53.98583086733616,
          48.949453170907375,
          266.55264545999785,
          -76.99037794506098,
          62.00521592087864,
          -94.03559652531027,
          27.22141220926547,
          7.154094106206328,
          130.5100265243654,
          -28.500705157199132,
          -6.181912437894958,
          -114.65200733238896,
          72.7113398480185,
          42.34804000664669,
          -77.58308674721502,
          21.769065049982117,
          -16.675848712115545,
          -29.83414598749129,
          -212.4164075795365,
          -40.35656334381344,
          166.00211750909773,
          134.81763422669587,
          1.2920151521887213,
          -37.94315657189529,
          -48.24859405107775,
          -42.33405076617541,
          29.208635169167234,
          -114.25276506437228,
          28.537156236977847,
          -220.6853587032202,
          10.885203966706694,
          -77.59183093824726,
          -2.0941538507930915,
          107.73935472809065,
          22.21776304879979,
          385.2015542013029,
          17.838739391275567,
          165.7094933334927,
          77.0056613964268,
          26.280700672885036,
          -216.710276704081,
          -101.518076062363,
          280.70847290384467,
          -99.430057530115,
          119.95740039964963,
          -53.15980943174219,
          32.921562898766055,
          -48.33703907841717,
          159.29155559299323,
          276.8523565648452,
          -139.95809588697222,
          -48.25559646075031,
          -61.379192385253575,
          96.84170160834178,
          -218.94205050645806,
          167.58782404419998,
          40.969439842156426,
          -28.99567419251821,
          -23.370599501203678,
          138.26909769117913,
          -121.3138399324169,
          -98.40770518915551,
          -127.96921440977978,
          85.10335109170373,
          -97.38005225585161,
          -64.52310513714093,
          12.78501960071354,
          -90.1811750346173,
          2.0266909427963924,
          -9.384017116563385,
          -197.834785298575,
          181.83982392449295,
          29.864700886896387,
          132.53285474801413,
          -136.49368531556132,
          -1.744025850626624,
          -101.89469403215404,
          82.28550040107969,
          -195.07695258869117,
          -164.73072109820598,
          44.18193986273009,
          25.01564241453208,
          -31.346437808669407,
          226.8545216065628,
          107.34586493042687,
          49.30205322629903,
          97.43425185902927,
          -156.02816889986138
         ]
        }
       ],
       "layout": {
        "autosize": true,
        "legend": {
         "tracegroupgap": 0
        },
        "margin": {
         "t": 60
        },
        "scene": {
         "aspectmode": "auto",
         "aspectratio": {
          "x": 1,
          "y": 1,
          "z": 1
         },
         "domain": {
          "x": [
           0,
           1
          ],
          "y": [
           0,
           1
          ]
         },
         "xaxis": {
          "title": {
           "text": "feature1"
          },
          "type": "linear"
         },
         "yaxis": {
          "title": {
           "text": "feature2"
          },
          "type": "linear"
         },
         "zaxis": {
          "title": {
           "text": "target"
          },
          "type": "linear"
         }
        },
        "template": {
         "data": {
          "bar": [
           {
            "error_x": {
             "color": "#2a3f5f"
            },
            "error_y": {
             "color": "#2a3f5f"
            },
            "marker": {
             "line": {
              "color": "#E5ECF6",
              "width": 0.5
             },
             "pattern": {
              "fillmode": "overlay",
              "size": 10,
              "solidity": 0.2
             }
            },
            "type": "bar"
           }
          ],
          "barpolar": [
           {
            "marker": {
             "line": {
              "color": "#E5ECF6",
              "width": 0.5
             },
             "pattern": {
              "fillmode": "overlay",
              "size": 10,
              "solidity": 0.2
             }
            },
            "type": "barpolar"
           }
          ],
          "carpet": [
           {
            "aaxis": {
             "endlinecolor": "#2a3f5f",
             "gridcolor": "white",
             "linecolor": "white",
             "minorgridcolor": "white",
             "startlinecolor": "#2a3f5f"
            },
            "baxis": {
             "endlinecolor": "#2a3f5f",
             "gridcolor": "white",
             "linecolor": "white",
             "minorgridcolor": "white",
             "startlinecolor": "#2a3f5f"
            },
            "type": "carpet"
           }
          ],
          "choropleth": [
           {
            "colorbar": {
             "outlinewidth": 0,
             "ticks": ""
            },
            "type": "choropleth"
           }
          ],
          "contour": [
           {
            "colorbar": {
             "outlinewidth": 0,
             "ticks": ""
            },
            "colorscale": [
             [
              0,
              "#0d0887"
             ],
             [
              0.1111111111111111,
              "#46039f"
             ],
             [
              0.2222222222222222,
              "#7201a8"
             ],
             [
              0.3333333333333333,
              "#9c179e"
             ],
             [
              0.4444444444444444,
              "#bd3786"
             ],
             [
              0.5555555555555556,
              "#d8576b"
             ],
             [
              0.6666666666666666,
              "#ed7953"
             ],
             [
              0.7777777777777778,
              "#fb9f3a"
             ],
             [
              0.8888888888888888,
              "#fdca26"
             ],
             [
              1,
              "#f0f921"
             ]
            ],
            "type": "contour"
           }
          ],
          "contourcarpet": [
           {
            "colorbar": {
             "outlinewidth": 0,
             "ticks": ""
            },
            "type": "contourcarpet"
           }
          ],
          "heatmap": [
           {
            "colorbar": {
             "outlinewidth": 0,
             "ticks": ""
            },
            "colorscale": [
             [
              0,
              "#0d0887"
             ],
             [
              0.1111111111111111,
              "#46039f"
             ],
             [
              0.2222222222222222,
              "#7201a8"
             ],
             [
              0.3333333333333333,
              "#9c179e"
             ],
             [
              0.4444444444444444,
              "#bd3786"
             ],
             [
              0.5555555555555556,
              "#d8576b"
             ],
             [
              0.6666666666666666,
              "#ed7953"
             ],
             [
              0.7777777777777778,
              "#fb9f3a"
             ],
             [
              0.8888888888888888,
              "#fdca26"
             ],
             [
              1,
              "#f0f921"
             ]
            ],
            "type": "heatmap"
           }
          ],
          "heatmapgl": [
           {
            "colorbar": {
             "outlinewidth": 0,
             "ticks": ""
            },
            "colorscale": [
             [
              0,
              "#0d0887"
             ],
             [
              0.1111111111111111,
              "#46039f"
             ],
             [
              0.2222222222222222,
              "#7201a8"
             ],
             [
              0.3333333333333333,
              "#9c179e"
             ],
             [
              0.4444444444444444,
              "#bd3786"
             ],
             [
              0.5555555555555556,
              "#d8576b"
             ],
             [
              0.6666666666666666,
              "#ed7953"
             ],
             [
              0.7777777777777778,
              "#fb9f3a"
             ],
             [
              0.8888888888888888,
              "#fdca26"
             ],
             [
              1,
              "#f0f921"
             ]
            ],
            "type": "heatmapgl"
           }
          ],
          "histogram": [
           {
            "marker": {
             "pattern": {
              "fillmode": "overlay",
              "size": 10,
              "solidity": 0.2
             }
            },
            "type": "histogram"
           }
          ],
          "histogram2d": [
           {
            "colorbar": {
             "outlinewidth": 0,
             "ticks": ""
            },
            "colorscale": [
             [
              0,
              "#0d0887"
             ],
             [
              0.1111111111111111,
              "#46039f"
             ],
             [
              0.2222222222222222,
              "#7201a8"
             ],
             [
              0.3333333333333333,
              "#9c179e"
             ],
             [
              0.4444444444444444,
              "#bd3786"
             ],
             [
              0.5555555555555556,
              "#d8576b"
             ],
             [
              0.6666666666666666,
              "#ed7953"
             ],
             [
              0.7777777777777778,
              "#fb9f3a"
             ],
             [
              0.8888888888888888,
              "#fdca26"
             ],
             [
              1,
              "#f0f921"
             ]
            ],
            "type": "histogram2d"
           }
          ],
          "histogram2dcontour": [
           {
            "colorbar": {
             "outlinewidth": 0,
             "ticks": ""
            },
            "colorscale": [
             [
              0,
              "#0d0887"
             ],
             [
              0.1111111111111111,
              "#46039f"
             ],
             [
              0.2222222222222222,
              "#7201a8"
             ],
             [
              0.3333333333333333,
              "#9c179e"
             ],
             [
              0.4444444444444444,
              "#bd3786"
             ],
             [
              0.5555555555555556,
              "#d8576b"
             ],
             [
              0.6666666666666666,
              "#ed7953"
             ],
             [
              0.7777777777777778,
              "#fb9f3a"
             ],
             [
              0.8888888888888888,
              "#fdca26"
             ],
             [
              1,
              "#f0f921"
             ]
            ],
            "type": "histogram2dcontour"
           }
          ],
          "mesh3d": [
           {
            "colorbar": {
             "outlinewidth": 0,
             "ticks": ""
            },
            "type": "mesh3d"
           }
          ],
          "parcoords": [
           {
            "line": {
             "colorbar": {
              "outlinewidth": 0,
              "ticks": ""
             }
            },
            "type": "parcoords"
           }
          ],
          "pie": [
           {
            "automargin": true,
            "type": "pie"
           }
          ],
          "scatter": [
           {
            "fillpattern": {
             "fillmode": "overlay",
             "size": 10,
             "solidity": 0.2
            },
            "type": "scatter"
           }
          ],
          "scatter3d": [
           {
            "line": {
             "colorbar": {
              "outlinewidth": 0,
              "ticks": ""
             }
            },
            "marker": {
             "colorbar": {
              "outlinewidth": 0,
              "ticks": ""
             }
            },
            "type": "scatter3d"
           }
          ],
          "scattercarpet": [
           {
            "marker": {
             "colorbar": {
              "outlinewidth": 0,
              "ticks": ""
             }
            },
            "type": "scattercarpet"
           }
          ],
          "scattergeo": [
           {
            "marker": {
             "colorbar": {
              "outlinewidth": 0,
              "ticks": ""
             }
            },
            "type": "scattergeo"
           }
          ],
          "scattergl": [
           {
            "marker": {
             "colorbar": {
              "outlinewidth": 0,
              "ticks": ""
             }
            },
            "type": "scattergl"
           }
          ],
          "scattermapbox": [
           {
            "marker": {
             "colorbar": {
              "outlinewidth": 0,
              "ticks": ""
             }
            },
            "type": "scattermapbox"
           }
          ],
          "scatterpolar": [
           {
            "marker": {
             "colorbar": {
              "outlinewidth": 0,
              "ticks": ""
             }
            },
            "type": "scatterpolar"
           }
          ],
          "scatterpolargl": [
           {
            "marker": {
             "colorbar": {
              "outlinewidth": 0,
              "ticks": ""
             }
            },
            "type": "scatterpolargl"
           }
          ],
          "scatterternary": [
           {
            "marker": {
             "colorbar": {
              "outlinewidth": 0,
              "ticks": ""
             }
            },
            "type": "scatterternary"
           }
          ],
          "surface": [
           {
            "colorbar": {
             "outlinewidth": 0,
             "ticks": ""
            },
            "colorscale": [
             [
              0,
              "#0d0887"
             ],
             [
              0.1111111111111111,
              "#46039f"
             ],
             [
              0.2222222222222222,
              "#7201a8"
             ],
             [
              0.3333333333333333,
              "#9c179e"
             ],
             [
              0.4444444444444444,
              "#bd3786"
             ],
             [
              0.5555555555555556,
              "#d8576b"
             ],
             [
              0.6666666666666666,
              "#ed7953"
             ],
             [
              0.7777777777777778,
              "#fb9f3a"
             ],
             [
              0.8888888888888888,
              "#fdca26"
             ],
             [
              1,
              "#f0f921"
             ]
            ],
            "type": "surface"
           }
          ],
          "table": [
           {
            "cells": {
             "fill": {
              "color": "#EBF0F8"
             },
             "line": {
              "color": "white"
             }
            },
            "header": {
             "fill": {
              "color": "#C8D4E3"
             },
             "line": {
              "color": "white"
             }
            },
            "type": "table"
           }
          ]
         },
         "layout": {
          "annotationdefaults": {
           "arrowcolor": "#2a3f5f",
           "arrowhead": 0,
           "arrowwidth": 1
          },
          "autotypenumbers": "strict",
          "coloraxis": {
           "colorbar": {
            "outlinewidth": 0,
            "ticks": ""
           }
          },
          "colorscale": {
           "diverging": [
            [
             0,
             "#8e0152"
            ],
            [
             0.1,
             "#c51b7d"
            ],
            [
             0.2,
             "#de77ae"
            ],
            [
             0.3,
             "#f1b6da"
            ],
            [
             0.4,
             "#fde0ef"
            ],
            [
             0.5,
             "#f7f7f7"
            ],
            [
             0.6,
             "#e6f5d0"
            ],
            [
             0.7,
             "#b8e186"
            ],
            [
             0.8,
             "#7fbc41"
            ],
            [
             0.9,
             "#4d9221"
            ],
            [
             1,
             "#276419"
            ]
           ],
           "sequential": [
            [
             0,
             "#0d0887"
            ],
            [
             0.1111111111111111,
             "#46039f"
            ],
            [
             0.2222222222222222,
             "#7201a8"
            ],
            [
             0.3333333333333333,
             "#9c179e"
            ],
            [
             0.4444444444444444,
             "#bd3786"
            ],
            [
             0.5555555555555556,
             "#d8576b"
            ],
            [
             0.6666666666666666,
             "#ed7953"
            ],
            [
             0.7777777777777778,
             "#fb9f3a"
            ],
            [
             0.8888888888888888,
             "#fdca26"
            ],
            [
             1,
             "#f0f921"
            ]
           ],
           "sequentialminus": [
            [
             0,
             "#0d0887"
            ],
            [
             0.1111111111111111,
             "#46039f"
            ],
            [
             0.2222222222222222,
             "#7201a8"
            ],
            [
             0.3333333333333333,
             "#9c179e"
            ],
            [
             0.4444444444444444,
             "#bd3786"
            ],
            [
             0.5555555555555556,
             "#d8576b"
            ],
            [
             0.6666666666666666,
             "#ed7953"
            ],
            [
             0.7777777777777778,
             "#fb9f3a"
            ],
            [
             0.8888888888888888,
             "#fdca26"
            ],
            [
             1,
             "#f0f921"
            ]
           ]
          },
          "colorway": [
           "#636efa",
           "#EF553B",
           "#00cc96",
           "#ab63fa",
           "#FFA15A",
           "#19d3f3",
           "#FF6692",
           "#B6E880",
           "#FF97FF",
           "#FECB52"
          ],
          "font": {
           "color": "#2a3f5f"
          },
          "geo": {
           "bgcolor": "white",
           "lakecolor": "white",
           "landcolor": "#E5ECF6",
           "showlakes": true,
           "showland": true,
           "subunitcolor": "white"
          },
          "hoverlabel": {
           "align": "left"
          },
          "hovermode": "closest",
          "mapbox": {
           "style": "light"
          },
          "paper_bgcolor": "white",
          "plot_bgcolor": "#E5ECF6",
          "polar": {
           "angularaxis": {
            "gridcolor": "white",
            "linecolor": "white",
            "ticks": ""
           },
           "bgcolor": "#E5ECF6",
           "radialaxis": {
            "gridcolor": "white",
            "linecolor": "white",
            "ticks": ""
           }
          },
          "scene": {
           "xaxis": {
            "backgroundcolor": "#E5ECF6",
            "gridcolor": "white",
            "gridwidth": 2,
            "linecolor": "white",
            "showbackground": true,
            "ticks": "",
            "zerolinecolor": "white"
           },
           "yaxis": {
            "backgroundcolor": "#E5ECF6",
            "gridcolor": "white",
            "gridwidth": 2,
            "linecolor": "white",
            "showbackground": true,
            "ticks": "",
            "zerolinecolor": "white"
           },
           "zaxis": {
            "backgroundcolor": "#E5ECF6",
            "gridcolor": "white",
            "gridwidth": 2,
            "linecolor": "white",
            "showbackground": true,
            "ticks": "",
            "zerolinecolor": "white"
           }
          },
          "shapedefaults": {
           "line": {
            "color": "#2a3f5f"
           }
          },
          "ternary": {
           "aaxis": {
            "gridcolor": "white",
            "linecolor": "white",
            "ticks": ""
           },
           "baxis": {
            "gridcolor": "white",
            "linecolor": "white",
            "ticks": ""
           },
           "bgcolor": "#E5ECF6",
           "caxis": {
            "gridcolor": "white",
            "linecolor": "white",
            "ticks": ""
           }
          },
          "title": {
           "x": 0.05
          },
          "xaxis": {
           "automargin": true,
           "gridcolor": "white",
           "linecolor": "white",
           "ticks": "",
           "title": {
            "standoff": 15
           },
           "zerolinecolor": "white",
           "zerolinewidth": 2
          },
          "yaxis": {
           "automargin": true,
           "gridcolor": "white",
           "linecolor": "white",
           "ticks": "",
           "title": {
            "standoff": 15
           },
           "zerolinecolor": "white",
           "zerolinewidth": 2
          }
         }
        }
       }
      },
      "image/png": "[encoded data removed]",
      "text/html": [
       "<div>                            <div id=\"94968172-5edb-42ac-966a-b99075da8989\" class=\"plotly-graph-div\" style=\"height:525px; width:100%;\"></div>            <script type=\"text/javascript\">                require([\"plotly\"], function(Plotly) {                    window.PLOTLYENV=window.PLOTLYENV || {};                                    if (document.getElementById(\"94968172-5edb-42ac-966a-b99075da8989\")) {                    Plotly.newPlot(                        \"94968172-5edb-42ac-966a-b99075da8989\",                        [{\"hovertemplate\":\"feature1=%{x}<br>feature2=%{y}<br>target=%{z}<extra></extra>\",\"legendgroup\":\"\",\"marker\":{\"color\":\"#636efa\",\"symbol\":\"circle\"},\"mode\":\"markers\",\"name\":\"\",\"scene\":\"scene\",\"showlegend\":false,\"x\":[-0.07781466074865245,0.8544097462790767,1.627202807297954,1.2554533609083343,-0.3909451085514438,-1.3357058531432269,-1.601730071784324,0.9140957344128198,-0.4412116791961652,-0.3341327551059233,-1.0465823732828774,0.6598058105067832,-1.099010625602364,1.3051127064101573,1.4369966944372299,0.4259631918603295,0.7016065885599945,-1.2231530377692903,-0.08389651041790837,-0.029536092686822963,0.875708268158035,0.4603999275629208,0.009126815750440472,-0.7860334889624562,0.3970835104046034,0.2784740381204711,-1.5745081322655403,1.448566999619427,-0.20599414172853686,0.42372195867506446,-0.7465698755542881,1.0185298119437514,1.1128714850437469,2.067222598410944,-0.05310310045328674,0.9376170382629815,-0.4827197674209697,-0.04260161959090078,-1.2058974611141497,0.41192372558427687,0.001958719860056139,-0.7032252029413021,-0.11652220241321135,-0.8373291528493675,-0.30905748515524833,1.5472498680098434,-1.2901143530295933,2.6588573913801365,-0.22496423577250532,1.8570530526068014,1.2115141754067331,0.5373005904462408,-2.3614668394833265,-1.4483678882362554,3.2918413953408376,-1.4077977654884946,2.0232136660532056,-0.009738808441473401,-0.13385393933524975,-0.23459649184728806,1.8844788055200297,1.206802822717396,-2.018816165993361,-0.9453779479800852,-1.2185490830816945,0.9234231825952534,-0.9145058698619791,0.5266645993968017,-0.3316808224975738,-0.9168754085845868,-1.5116348873793266,0.9321298760283554,-1.6395059717371094,-1.2293674392331913,0.16768810314459687,0.5934019021854428,-0.3509092973051683,-0.8527766785677804,0.0553812863545597,0.10038223437322066,0.13474840695134688,1.2250044588904192,-0.8439053744065171,2.00507545537079,-0.8098307288694868,0.31289995714952534,-1.6468326280925922,0.9205898743333413,-1.1048419525910544,0.16387472211439524,-2.1777509348245334,-2.053711522161748,2.377008060378194,-0.3530019039189437,-1.0034557631484315,0.3516490290011782,0.8144992304345882,-0.3227996604257595,0.8124794691898873,-1.2112964477866435],\"y\":[-1.598122935914689,-0.5305963800325336,-0.3896691971232099,0.344096289237788,-0.7566209820753619,-1.0223949691928782,2.8814033601575573,1.3469504600334472,-1.2420782218093982,0.25692907285943173,-2.3142490754374028,-1.821659023565595,-0.6177527988355673,-0.39578724313939784,0.6228524029916461,-1.9831741166351655,0.3118704469711986,0.7737913818130521,0.6745849362036166,-0.018637312585139537,-1.5643509238321,-0.533464209180417,-0.5801024645372038,-1.2658669328442294,0.9197688906980286,0.4231083716994024,-0.782927840197278,-1.6755481468940057,0.4485872179939962,0.33936588713279836,-0.30968821603457525,-1.5076639229146025,1.1746856396936074,0.1404890261258624,0.08719802807725184,-0.5185334311830194,-1.0838736202714165,-0.26687508467382987,1.3612024883024345,-1.4667222652087673,-0.030936042477262962,-0.8444634065926652,0.7177287469768646,0.059234168645946036,0.13170376504397344,-0.13087772509341772,2.5557529225111035,1.022217462383853,-0.36925678064783657,0.7884550108227841,-0.9832909285653808,-0.29656290382503264,0.23359709551601487,-1.0039568088920616,0.43775114756440336,0.8003627203626742,-0.5333305770443788,-0.12199485127225863,0.5419277265134116,1.0899735416852951,-0.22075017049690676,2.4506731583924837,-0.01537651803331468,1.311618196861581,1.0364327669593234,0.2944111577541394,-3.2184096365061734,0.5308739121015135,0.8603842806412882,-0.27179714433009766,2.15274351404967,-0.653843321011799,0.3124455036239132,0.33300347646892237,-2.6895953860990773,0.14735057943638286,-0.6907913613602431,0.2923822873799445,-0.32273984633223024,-2.14073593237019,0.5697373673723514,-0.07524041467662287,-1.5163896569985895,0.6397796837172659,2.3318579319492336,0.6348157101197751,-0.5183185207872084,-2.036518721702989,0.8378320966740742,1.525040761575355,-1.3462417283159798,0.367612613583482,-1.5863370406925752,0.4925028863359149,1.2352359072542876,1.3352816464636539,1.378189698706249,0.8223665859986763,1.6086201192416738,-0.6051762113651998],\"z\":[-82.56210483825468,33.02251364378772,110.31704386006196,-21.557583869853616,-11.980704070365789,-219.70895236703245,62.03458955247727,190.8643965645543,-110.56997126885696,2.210040664035944,-174.36507807861912,-122.6683649633083,-53.98583086733616,48.949453170907375,266.55264545999785,-76.99037794506098,62.00521592087864,-94.03559652531027,27.22141220926547,7.154094106206328,130.5100265243654,-28.500705157199132,-6.181912437894958,-114.65200733238896,72.7113398480185,42.34804000664669,-77.58308674721502,21.769065049982117,-16.675848712115545,-29.83414598749129,-212.4164075795365,-40.35656334381344,166.00211750909773,134.81763422669587,1.2920151521887213,-37.94315657189529,-48.24859405107775,-42.33405076617541,29.208635169167234,-114.25276506437228,28.537156236977847,-220.6853587032202,10.885203966706694,-77.59183093824726,-2.0941538507930915,107.73935472809065,22.21776304879979,385.2015542013029,17.838739391275567,165.7094933334927,77.0056613964268,26.280700672885036,-216.710276704081,-101.518076062363,280.70847290384467,-99.430057530115,119.95740039964963,-53.15980943174219,32.921562898766055,-48.33703907841717,159.29155559299323,276.8523565648452,-139.95809588697222,-48.25559646075031,-61.379192385253575,96.84170160834178,-218.94205050645806,167.58782404419998,40.969439842156426,-28.99567419251821,-23.370599501203678,138.26909769117913,-121.3138399324169,-98.40770518915551,-127.96921440977978,85.10335109170373,-97.38005225585161,-64.52310513714093,12.78501960071354,-90.1811750346173,2.0266909427963924,-9.384017116563385,-197.834785298575,181.83982392449295,29.864700886896387,132.53285474801413,-136.49368531556132,-1.744025850626624,-101.89469403215404,82.28550040107969,-195.07695258869117,-164.73072109820598,44.18193986273009,25.01564241453208,-31.346437808669407,226.8545216065628,107.34586493042687,49.30205322629903,97.43425185902927,-156.02816889986138],\"type\":\"scatter3d\"}],                        {\"template\":{\"data\":{\"histogram2dcontour\":[{\"type\":\"histogram2dcontour\",\"colorbar\":{\"outlinewidth\":0,\"ticks\":\"\"},\"colorscale\":[[0.0,\"#0d0887\"],[0.1111111111111111,\"#46039f\"],[0.2222222222222222,\"#7201a8\"],[0.3333333333333333,\"#9c179e\"],[0.4444444444444444,\"#bd3786\"],[0.5555555555555556,\"#d8576b\"],[0.6666666666666666,\"#ed7953\"],[0.7777777777777778,\"#fb9f3a\"],[0.8888888888888888,\"#fdca26\"],[1.0,\"#f0f921\"]]}],\"choropleth\":[{\"type\":\"choropleth\",\"colorbar\":{\"outlinewidth\":0,\"ticks\":\"\"}}],\"histogram2d\":[{\"type\":\"histogram2d\",\"colorbar\":{\"outlinewidth\":0,\"ticks\":\"\"},\"colorscale\":[[0.0,\"#0d0887\"],[0.1111111111111111,\"#46039f\"],[0.2222222222222222,\"#7201a8\"],[0.3333333333333333,\"#9c179e\"],[0.4444444444444444,\"#bd3786\"],[0.5555555555555556,\"#d8576b\"],[0.6666666666666666,\"#ed7953\"],[0.7777777777777778,\"#fb9f3a\"],[0.8888888888888888,\"#fdca26\"],[1.0,\"#f0f921\"]]}],\"heatmap\":[{\"type\":\"heatmap\",\"colorbar\":{\"outlinewidth\":0,\"ticks\":\"\"},\"colorscale\":[[0.0,\"#0d0887\"],[0.1111111111111111,\"#46039f\"],[0.2222222222222222,\"#7201a8\"],[0.3333333333333333,\"#9c179e\"],[0.4444444444444444,\"#bd3786\"],[0.5555555555555556,\"#d8576b\"],[0.6666666666666666,\"#ed7953\"],[0.7777777777777778,\"#fb9f3a\"],[0.8888888888888888,\"#fdca26\"],[1.0,\"#f0f921\"]]}],\"heatmapgl\":[{\"type\":\"heatmapgl\",\"colorbar\":{\"outlinewidth\":0,\"ticks\":\"\"},\"colorscale\":[[0.0,\"#0d0887\"],[0.1111111111111111,\"#46039f\"],[0.2222222222222222,\"#7201a8\"],[0.3333333333333333,\"#9c179e\"],[0.4444444444444444,\"#bd3786\"],[0.5555555555555556,\"#d8576b\"],[0.6666666666666666,\"#ed7953\"],[0.7777777777777778,\"#fb9f3a\"],[0.8888888888888888,\"#fdca26\"],[1.0,\"#f0f921\"]]}],\"contourcarpet\":[{\"type\":\"contourcarpet\",\"colorbar\":{\"outlinewidth\":0,\"ticks\":\"\"}}],\"contour\":[{\"type\":\"contour\",\"colorbar\":{\"outlinewidth\":0,\"ticks\":\"\"},\"colorscale\":[[0.0,\"#0d0887\"],[0.1111111111111111,\"#46039f\"],[0.2222222222222222,\"#7201a8\"],[0.3333333333333333,\"#9c179e\"],[0.4444444444444444,\"#bd3786\"],[0.5555555555555556,\"#d8576b\"],[0.6666666666666666,\"#ed7953\"],[0.7777777777777778,\"#fb9f3a\"],[0.8888888888888888,\"#fdca26\"],[1.0,\"#f0f921\"]]}],\"surface\":[{\"type\":\"surface\",\"colorbar\":{\"outlinewidth\":0,\"ticks\":\"\"},\"colorscale\":[[0.0,\"#0d0887\"],[0.1111111111111111,\"#46039f\"],[0.2222222222222222,\"#7201a8\"],[0.3333333333333333,\"#9c179e\"],[0.4444444444444444,\"#bd3786\"],[0.5555555555555556,\"#d8576b\"],[0.6666666666666666,\"#ed7953\"],[0.7777777777777778,\"#fb9f3a\"],[0.8888888888888888,\"#fdca26\"],[1.0,\"#f0f921\"]]}],\"mesh3d\":[{\"type\":\"mesh3d\",\"colorbar\":{\"outlinewidth\":0,\"ticks\":\"\"}}],\"scatter\":[{\"fillpattern\":{\"fillmode\":\"overlay\",\"size\":10,\"solidity\":0.2},\"type\":\"scatter\"}],\"parcoords\":[{\"type\":\"parcoords\",\"line\":{\"colorbar\":{\"outlinewidth\":0,\"ticks\":\"\"}}}],\"scatterpolargl\":[{\"type\":\"scatterpolargl\",\"marker\":{\"colorbar\":{\"outlinewidth\":0,\"ticks\":\"\"}}}],\"bar\":[{\"error_x\":{\"color\":\"#2a3f5f\"},\"error_y\":{\"color\":\"#2a3f5f\"},\"marker\":{\"line\":{\"color\":\"#E5ECF6\",\"width\":0.5},\"pattern\":{\"fillmode\":\"overlay\",\"size\":10,\"solidity\":0.2}},\"type\":\"bar\"}],\"scattergeo\":[{\"type\":\"scattergeo\",\"marker\":{\"colorbar\":{\"outlinewidth\":0,\"ticks\":\"\"}}}],\"scatterpolar\":[{\"type\":\"scatterpolar\",\"marker\":{\"colorbar\":{\"outlinewidth\":0,\"ticks\":\"\"}}}],\"histogram\":[{\"marker\":{\"pattern\":{\"fillmode\":\"overlay\",\"size\":10,\"solidity\":0.2}},\"type\":\"histogram\"}],\"scattergl\":[{\"type\":\"scattergl\",\"marker\":{\"colorbar\":{\"outlinewidth\":0,\"ticks\":\"\"}}}],\"scatter3d\":[{\"type\":\"scatter3d\",\"line\":{\"colorbar\":{\"outlinewidth\":0,\"ticks\":\"\"}},\"marker\":{\"colorbar\":{\"outlinewidth\":0,\"ticks\":\"\"}}}],\"scattermapbox\":[{\"type\":\"scattermapbox\",\"marker\":{\"colorbar\":{\"outlinewidth\":0,\"ticks\":\"\"}}}],\"scatterternary\":[{\"type\":\"scatterternary\",\"marker\":{\"colorbar\":{\"outlinewidth\":0,\"ticks\":\"\"}}}],\"scattercarpet\":[{\"type\":\"scattercarpet\",\"marker\":{\"colorbar\":{\"outlinewidth\":0,\"ticks\":\"\"}}}],\"carpet\":[{\"aaxis\":{\"endlinecolor\":\"#2a3f5f\",\"gridcolor\":\"white\",\"linecolor\":\"white\",\"minorgridcolor\":\"white\",\"startlinecolor\":\"#2a3f5f\"},\"baxis\":{\"endlinecolor\":\"#2a3f5f\",\"gridcolor\":\"white\",\"linecolor\":\"white\",\"minorgridcolor\":\"white\",\"startlinecolor\":\"#2a3f5f\"},\"type\":\"carpet\"}],\"table\":[{\"cells\":{\"fill\":{\"color\":\"#EBF0F8\"},\"line\":{\"color\":\"white\"}},\"header\":{\"fill\":{\"color\":\"#C8D4E3\"},\"line\":{\"color\":\"white\"}},\"type\":\"table\"}],\"barpolar\":[{\"marker\":{\"line\":{\"color\":\"#E5ECF6\",\"width\":0.5},\"pattern\":{\"fillmode\":\"overlay\",\"size\":10,\"solidity\":0.2}},\"type\":\"barpolar\"}],\"pie\":[{\"automargin\":true,\"type\":\"pie\"}]},\"layout\":{\"autotypenumbers\":\"strict\",\"colorway\":[\"#636efa\",\"#EF553B\",\"#00cc96\",\"#ab63fa\",\"#FFA15A\",\"#19d3f3\",\"#FF6692\",\"#B6E880\",\"#FF97FF\",\"#FECB52\"],\"font\":{\"color\":\"#2a3f5f\"},\"hovermode\":\"closest\",\"hoverlabel\":{\"align\":\"left\"},\"paper_bgcolor\":\"white\",\"plot_bgcolor\":\"#E5ECF6\",\"polar\":{\"bgcolor\":\"#E5ECF6\",\"angularaxis\":{\"gridcolor\":\"white\",\"linecolor\":\"white\",\"ticks\":\"\"},\"radialaxis\":{\"gridcolor\":\"white\",\"linecolor\":\"white\",\"ticks\":\"\"}},\"ternary\":{\"bgcolor\":\"#E5ECF6\",\"aaxis\":{\"gridcolor\":\"white\",\"linecolor\":\"white\",\"ticks\":\"\"},\"baxis\":{\"gridcolor\":\"white\",\"linecolor\":\"white\",\"ticks\":\"\"},\"caxis\":{\"gridcolor\":\"white\",\"linecolor\":\"white\",\"ticks\":\"\"}},\"coloraxis\":{\"colorbar\":{\"outlinewidth\":0,\"ticks\":\"\"}},\"colorscale\":{\"sequential\":[[0.0,\"#0d0887\"],[0.1111111111111111,\"#46039f\"],[0.2222222222222222,\"#7201a8\"],[0.3333333333333333,\"#9c179e\"],[0.4444444444444444,\"#bd3786\"],[0.5555555555555556,\"#d8576b\"],[0.6666666666666666,\"#ed7953\"],[0.7777777777777778,\"#fb9f3a\"],[0.8888888888888888,\"#fdca26\"],[1.0,\"#f0f921\"]],\"sequentialminus\":[[0.0,\"#0d0887\"],[0.1111111111111111,\"#46039f\"],[0.2222222222222222,\"#7201a8\"],[0.3333333333333333,\"#9c179e\"],[0.4444444444444444,\"#bd3786\"],[0.5555555555555556,\"#d8576b\"],[0.6666666666666666,\"#ed7953\"],[0.7777777777777778,\"#fb9f3a\"],[0.8888888888888888,\"#fdca26\"],[1.0,\"#f0f921\"]],\"diverging\":[[0,\"#8e0152\"],[0.1,\"#c51b7d\"],[0.2,\"#de77ae\"],[0.3,\"#f1b6da\"],[0.4,\"#fde0ef\"],[0.5,\"#f7f7f7\"],[0.6,\"#e6f5d0\"],[0.7,\"#b8e186\"],[0.8,\"#7fbc41\"],[0.9,\"#4d9221\"],[1,\"#276419\"]]},\"xaxis\":{\"gridcolor\":\"white\",\"linecolor\":\"white\",\"ticks\":\"\",\"title\":{\"standoff\":15},\"zerolinecolor\":\"white\",\"automargin\":true,\"zerolinewidth\":2},\"yaxis\":{\"gridcolor\":\"white\",\"linecolor\":\"white\",\"ticks\":\"\",\"title\":{\"standoff\":15},\"zerolinecolor\":\"white\",\"automargin\":true,\"zerolinewidth\":2},\"scene\":{\"xaxis\":{\"backgroundcolor\":\"#E5ECF6\",\"gridcolor\":\"white\",\"linecolor\":\"white\",\"showbackground\":true,\"ticks\":\"\",\"zerolinecolor\":\"white\",\"gridwidth\":2},\"yaxis\":{\"backgroundcolor\":\"#E5ECF6\",\"gridcolor\":\"white\",\"linecolor\":\"white\",\"showbackground\":true,\"ticks\":\"\",\"zerolinecolor\":\"white\",\"gridwidth\":2},\"zaxis\":{\"backgroundcolor\":\"#E5ECF6\",\"gridcolor\":\"white\",\"linecolor\":\"white\",\"showbackground\":true,\"ticks\":\"\",\"zerolinecolor\":\"white\",\"gridwidth\":2}},\"shapedefaults\":{\"line\":{\"color\":\"#2a3f5f\"}},\"annotationdefaults\":{\"arrowcolor\":\"#2a3f5f\",\"arrowhead\":0,\"arrowwidth\":1},\"geo\":{\"bgcolor\":\"white\",\"landcolor\":\"#E5ECF6\",\"subunitcolor\":\"white\",\"showland\":true,\"showlakes\":true,\"lakecolor\":\"white\"},\"title\":{\"x\":0.05},\"mapbox\":{\"style\":\"light\"}}},\"scene\":{\"domain\":{\"x\":[0.0,1.0],\"y\":[0.0,1.0]},\"xaxis\":{\"title\":{\"text\":\"feature1\"}},\"yaxis\":{\"title\":{\"text\":\"feature2\"}},\"zaxis\":{\"title\":{\"text\":\"target\"}}},\"legend\":{\"tracegroupgap\":0},\"margin\":{\"t\":60}},                        {\"responsive\": true}                    ).then(function(){\n",
       "                            \n",
       "var gd = document.getElementById('94968172-5edb-42ac-966a-b99075da8989');\n",
       "var x = new MutationObserver(function (mutations, observer) {{\n",
       "        var display = window.getComputedStyle(gd).display;\n",
       "        if (!display || display === 'none') {{\n",
       "            console.log([gd, 'removed!']);\n",
       "            Plotly.purge(gd);\n",
       "            observer.disconnect();\n",
       "        }}\n",
       "}});\n",
       "\n",
       "// Listen for the removal of the full notebook cells\n",
       "var notebookContainer = gd.closest('#notebook-container');\n",
       "if (notebookContainer) {{\n",
       "    x.observe(notebookContainer, {childList: true});\n",
       "}}\n",
       "\n",
       "// Listen for the clearing of the current output cell\n",
       "var outputEl = gd.closest('.output');\n",
       "if (outputEl) {{\n",
       "    x.observe(outputEl, {childList: true});\n",
       "}}\n",
       "\n",
       "                        })                };                });            </script>        </div>"
      ]
     },
     "metadata": {},
     "output_type": "display_data"
    }
   ],
   "source": [
    "fig=plt.scatter_3d(df,x=\"feature1\",y=\"feature2\",z='target')\n",
    "fig.show()"
   ]
  },
  {
   "cell_type": "code",
   "execution_count": 39,
   "id": "5f5ee2e8-d235-4ab4-b4b3-53001bf36303",
   "metadata": {},
   "outputs": [],
   "source": [
    "from sklearn.linear_model import LinearRegression\n",
    "from sklearn.model_selection import train_test_split\n",
    "from sklearn.metrics import mean_absolute_error,mean_squared_error,r2_score"
   ]
  },
  {
   "cell_type": "code",
   "execution_count": null,
   "id": "14f3a383-d77d-4b85-a9e5-407a1199722a",
   "metadata": {},
   "outputs": [],
   "source": []
  },
  {
   "cell_type": "code",
   "execution_count": 40,
   "id": "53ce9d5b-bf52-488f-8fa9-78f00e6506d3",
   "metadata": {},
   "outputs": [],
   "source": [
    "X_train,X_test,y_train,y_test=train_test_split(X,y,test_size=0.2,random_state=3)"
   ]
  },
  {
   "cell_type": "code",
   "execution_count": 41,
   "id": "8d37cf63-11bb-448c-9ad7-5369e4fd0adb",
   "metadata": {},
   "outputs": [],
   "source": [
    "model = LinearRegression()"
   ]
  },
  {
   "cell_type": "code",
   "execution_count": 42,
   "id": "8f4aa31d-7787-49de-8c8d-61498476f41a",
   "metadata": {},
   "outputs": [
    {
     "data": {
      "text/html": [
       "<style>#sk-container-id-3 {color: black;}#sk-container-id-3 pre{padding: 0;}#sk-container-id-3 div.sk-toggleable {background-color: white;}#sk-container-id-3 label.sk-toggleable__label {cursor: pointer;display: block;width: 100%;margin-bottom: 0;padding: 0.3em;box-sizing: border-box;text-align: center;}#sk-container-id-3 label.sk-toggleable__label-arrow:before {content: \"▸\";float: left;margin-right: 0.25em;color: #696969;}#sk-container-id-3 label.sk-toggleable__label-arrow:hover:before {color: black;}#sk-container-id-3 div.sk-estimator:hover label.sk-toggleable__label-arrow:before {color: black;}#sk-container-id-3 div.sk-toggleable__content {max-height: 0;max-width: 0;overflow: hidden;text-align: left;background-color: #f0f8ff;}#sk-container-id-3 div.sk-toggleable__content pre {margin: 0.2em;color: black;border-radius: 0.25em;background-color: #f0f8ff;}#sk-container-id-3 input.sk-toggleable__control:checked~div.sk-toggleable__content {max-height: 200px;max-width: 100%;overflow: auto;}#sk-container-id-3 input.sk-toggleable__control:checked~label.sk-toggleable__label-arrow:before {content: \"▾\";}#sk-container-id-3 div.sk-estimator input.sk-toggleable__control:checked~label.sk-toggleable__label {background-color: #d4ebff;}#sk-container-id-3 div.sk-label input.sk-toggleable__control:checked~label.sk-toggleable__label {background-color: #d4ebff;}#sk-container-id-3 input.sk-hidden--visually {border: 0;clip: rect(1px 1px 1px 1px);clip: rect(1px, 1px, 1px, 1px);height: 1px;margin: -1px;overflow: hidden;padding: 0;position: absolute;width: 1px;}#sk-container-id-3 div.sk-estimator {font-family: monospace;background-color: #f0f8ff;border: 1px dotted black;border-radius: 0.25em;box-sizing: border-box;margin-bottom: 0.5em;}#sk-container-id-3 div.sk-estimator:hover {background-color: #d4ebff;}#sk-container-id-3 div.sk-parallel-item::after {content: \"\";width: 100%;border-bottom: 1px solid gray;flex-grow: 1;}#sk-container-id-3 div.sk-label:hover label.sk-toggleable__label {background-color: #d4ebff;}#sk-container-id-3 div.sk-serial::before {content: \"\";position: absolute;border-left: 1px solid gray;box-sizing: border-box;top: 0;bottom: 0;left: 50%;z-index: 0;}#sk-container-id-3 div.sk-serial {display: flex;flex-direction: column;align-items: center;background-color: white;padding-right: 0.2em;padding-left: 0.2em;position: relative;}#sk-container-id-3 div.sk-item {position: relative;z-index: 1;}#sk-container-id-3 div.sk-parallel {display: flex;align-items: stretch;justify-content: center;background-color: white;position: relative;}#sk-container-id-3 div.sk-item::before, #sk-container-id-3 div.sk-parallel-item::before {content: \"\";position: absolute;border-left: 1px solid gray;box-sizing: border-box;top: 0;bottom: 0;left: 50%;z-index: -1;}#sk-container-id-3 div.sk-parallel-item {display: flex;flex-direction: column;z-index: 1;position: relative;background-color: white;}#sk-container-id-3 div.sk-parallel-item:first-child::after {align-self: flex-end;width: 50%;}#sk-container-id-3 div.sk-parallel-item:last-child::after {align-self: flex-start;width: 50%;}#sk-container-id-3 div.sk-parallel-item:only-child::after {width: 0;}#sk-container-id-3 div.sk-dashed-wrapped {border: 1px dashed gray;margin: 0 0.4em 0.5em 0.4em;box-sizing: border-box;padding-bottom: 0.4em;background-color: white;}#sk-container-id-3 div.sk-label label {font-family: monospace;font-weight: bold;display: inline-block;line-height: 1.2em;}#sk-container-id-3 div.sk-label-container {text-align: center;}#sk-container-id-3 div.sk-container {/* jupyter's `normalize.less` sets `[hidden] { display: none; }` but bootstrap.min.css set `[hidden] { display: none !important; }` so we also need the `!important` here to be able to override the default hidden behavior on the sphinx rendered scikit-learn.org. See: https://github.com/scikit-learn/scikit-learn/issues/21755 */display: inline-block !important;position: relative;}#sk-container-id-3 div.sk-text-repr-fallback {display: none;}</style><div id=\"sk-container-id-3\" class=\"sk-top-container\"><div class=\"sk-text-repr-fallback\"><pre>LinearRegression()</pre><b>In a Jupyter environment, please rerun this cell to show the HTML representation or trust the notebook. <br />On GitHub, the HTML representation is unable to render, please try loading this page with nbviewer.org.</b></div><div class=\"sk-container\" hidden><div class=\"sk-item\"><div class=\"sk-estimator sk-toggleable\"><input class=\"sk-toggleable__control sk-hidden--visually\" id=\"sk-estimator-id-3\" type=\"checkbox\" checked><label for=\"sk-estimator-id-3\" class=\"sk-toggleable__label sk-toggleable__label-arrow\">LinearRegression</label><div class=\"sk-toggleable__content\"><pre>LinearRegression()</pre></div></div></div></div></div>"
      ],
      "text/plain": [
       "LinearRegression()"
      ]
     },
     "execution_count": 42,
     "metadata": {},
     "output_type": "execute_result"
    }
   ],
   "source": [
    "model.fit(X_train,y_train)"
   ]
  },
  {
   "cell_type": "code",
   "execution_count": 43,
   "id": "b0ee05f3-77f2-473d-9117-a77b3678a744",
   "metadata": {},
   "outputs": [],
   "source": [
    "y_pred=model.predict(X_test)"
   ]
  },
  {
   "cell_type": "code",
   "execution_count": 45,
   "id": "50f90939-e192-4b92-9dd7-4564eb1664ab",
   "metadata": {},
   "outputs": [
    {
     "name": "stdout",
     "output_type": "stream",
     "text": [
      "MAE 32.46388946669184\n",
      "MSE 1941.8088610588206\n",
      "R2 0.7891547596451652\n"
     ]
    }
   ],
   "source": [
    "print(\"MAE\",mean_absolute_error(y_test,y_pred))\n",
    "print(\"MSE\",mean_squared_error(y_test,y_pred))\n",
    "print(\"R2\",r2_score(y_test,y_pred))\n"
   ]
  },
  {
   "cell_type": "code",
   "execution_count": 46,
   "id": "a83c6df2-b86d-429a-9191-9d8bedb9034c",
   "metadata": {},
   "outputs": [
    {
     "data": {
      "text/plain": [
       "array([79.83223283, 53.40689441])"
      ]
     },
     "execution_count": 46,
     "metadata": {},
     "output_type": "execute_result"
    }
   ],
   "source": [
    "model.coef_"
   ]
  },
  {
   "cell_type": "code",
   "execution_count": 47,
   "id": "b303f460-d980-48c1-bce4-81e84c3f8049",
   "metadata": {},
   "outputs": [
    {
     "data": {
      "text/plain": [
       "-1.3403890299003036"
      ]
     },
     "execution_count": 47,
     "metadata": {},
     "output_type": "execute_result"
    }
   ],
   "source": [
    "model.intercept_"
   ]
  },
  {
   "cell_type": "code",
   "execution_count": 52,
   "id": "998e6130-5bbd-49d9-9ddf-935a3a0d7f1f",
   "metadata": {},
   "outputs": [
    {
     "data": {
      "application/vnd.plotly.v1+json": {
       "config": {
        "plotlyServerURL": "https://plot.ly"
       },
       "data": [
        {
         "hovertemplate": "feature1=%{x}<br>feature2=%{y}<br>target=%{z}<extra></extra>",
         "legendgroup": "",
         "marker": {
          "color": "#636efa",
          "symbol": "circle"
         },
         "mode": "markers",
         "name": "",
         "scene": "scene",
         "showlegend": false,
         "type": "scatter3d",
         "x": [
          -0.07781466074865245,
          0.8544097462790767,
          1.627202807297954,
          1.2554533609083343,
          -0.3909451085514438,
          -1.3357058531432269,
          -1.601730071784324,
          0.9140957344128198,
          -0.4412116791961652,
          -0.3341327551059233,
          -1.0465823732828774,
          0.6598058105067832,
          -1.099010625602364,
          1.3051127064101573,
          1.4369966944372299,
          0.4259631918603295,
          0.7016065885599945,
          -1.2231530377692903,
          -0.08389651041790837,
          -0.029536092686822963,
          0.875708268158035,
          0.4603999275629208,
          0.009126815750440472,
          -0.7860334889624562,
          0.3970835104046034,
          0.2784740381204711,
          -1.5745081322655403,
          1.448566999619427,
          -0.20599414172853686,
          0.42372195867506446,
          -0.7465698755542881,
          1.0185298119437514,
          1.1128714850437469,
          2.067222598410944,
          -0.05310310045328674,
          0.9376170382629815,
          -0.4827197674209697,
          -0.04260161959090078,
          -1.2058974611141497,
          0.41192372558427687,
          0.001958719860056139,
          -0.7032252029413021,
          -0.11652220241321135,
          -0.8373291528493675,
          -0.30905748515524833,
          1.5472498680098434,
          -1.2901143530295933,
          2.6588573913801365,
          -0.22496423577250532,
          1.8570530526068014,
          1.2115141754067331,
          0.5373005904462408,
          -2.3614668394833265,
          -1.4483678882362554,
          3.2918413953408376,
          -1.4077977654884946,
          2.0232136660532056,
          -0.009738808441473401,
          -0.13385393933524975,
          -0.23459649184728806,
          1.8844788055200297,
          1.206802822717396,
          -2.018816165993361,
          -0.9453779479800852,
          -1.2185490830816945,
          0.9234231825952534,
          -0.9145058698619791,
          0.5266645993968017,
          -0.3316808224975738,
          -0.9168754085845868,
          -1.5116348873793266,
          0.9321298760283554,
          -1.6395059717371094,
          -1.2293674392331913,
          0.16768810314459687,
          0.5934019021854428,
          -0.3509092973051683,
          -0.8527766785677804,
          0.0553812863545597,
          0.10038223437322066,
          0.13474840695134688,
          1.2250044588904192,
          -0.8439053744065171,
          2.00507545537079,
          -0.8098307288694868,
          0.31289995714952534,
          -1.6468326280925922,
          0.9205898743333413,
          -1.1048419525910544,
          0.16387472211439524,
          -2.1777509348245334,
          -2.053711522161748,
          2.377008060378194,
          -0.3530019039189437,
          -1.0034557631484315,
          0.3516490290011782,
          0.8144992304345882,
          -0.3227996604257595,
          0.8124794691898873,
          -1.2112964477866435
         ],
         "y": [
          -1.598122935914689,
          -0.5305963800325336,
          -0.3896691971232099,
          0.344096289237788,
          -0.7566209820753619,
          -1.0223949691928782,
          2.8814033601575573,
          1.3469504600334472,
          -1.2420782218093982,
          0.25692907285943173,
          -2.3142490754374028,
          -1.821659023565595,
          -0.6177527988355673,
          -0.39578724313939784,
          0.6228524029916461,
          -1.9831741166351655,
          0.3118704469711986,
          0.7737913818130521,
          0.6745849362036166,
          -0.018637312585139537,
          -1.5643509238321,
          -0.533464209180417,
          -0.5801024645372038,
          -1.2658669328442294,
          0.9197688906980286,
          0.4231083716994024,
          -0.782927840197278,
          -1.6755481468940057,
          0.4485872179939962,
          0.33936588713279836,
          -0.30968821603457525,
          -1.5076639229146025,
          1.1746856396936074,
          0.1404890261258624,
          0.08719802807725184,
          -0.5185334311830194,
          -1.0838736202714165,
          -0.26687508467382987,
          1.3612024883024345,
          -1.4667222652087673,
          -0.030936042477262962,
          -0.8444634065926652,
          0.7177287469768646,
          0.059234168645946036,
          0.13170376504397344,
          -0.13087772509341772,
          2.5557529225111035,
          1.022217462383853,
          -0.36925678064783657,
          0.7884550108227841,
          -0.9832909285653808,
          -0.29656290382503264,
          0.23359709551601487,
          -1.0039568088920616,
          0.43775114756440336,
          0.8003627203626742,
          -0.5333305770443788,
          -0.12199485127225863,
          0.5419277265134116,
          1.0899735416852951,
          -0.22075017049690676,
          2.4506731583924837,
          -0.01537651803331468,
          1.311618196861581,
          1.0364327669593234,
          0.2944111577541394,
          -3.2184096365061734,
          0.5308739121015135,
          0.8603842806412882,
          -0.27179714433009766,
          2.15274351404967,
          -0.653843321011799,
          0.3124455036239132,
          0.33300347646892237,
          -2.6895953860990773,
          0.14735057943638286,
          -0.6907913613602431,
          0.2923822873799445,
          -0.32273984633223024,
          -2.14073593237019,
          0.5697373673723514,
          -0.07524041467662287,
          -1.5163896569985895,
          0.6397796837172659,
          2.3318579319492336,
          0.6348157101197751,
          -0.5183185207872084,
          -2.036518721702989,
          0.8378320966740742,
          1.525040761575355,
          -1.3462417283159798,
          0.367612613583482,
          -1.5863370406925752,
          0.4925028863359149,
          1.2352359072542876,
          1.3352816464636539,
          1.378189698706249,
          0.8223665859986763,
          1.6086201192416738,
          -0.6051762113651998
         ],
         "z": [
          -82.56210483825468,
          33.02251364378772,
          110.31704386006196,
          -21.557583869853616,
          -11.980704070365789,
          -219.70895236703245,
          62.03458955247727,
          190.8643965645543,
          -110.56997126885696,
          2.210040664035944,
          -174.36507807861912,
          -122.6683649633083,
          -53.98583086733616,
          48.949453170907375,
          266.55264545999785,
          -76.99037794506098,
          62.00521592087864,
          -94.03559652531027,
          27.22141220926547,
          7.154094106206328,
          130.5100265243654,
          -28.500705157199132,
          -6.181912437894958,
          -114.65200733238896,
          72.7113398480185,
          42.34804000664669,
          -77.58308674721502,
          21.769065049982117,
          -16.675848712115545,
          -29.83414598749129,
          -212.4164075795365,
          -40.35656334381344,
          166.00211750909773,
          134.81763422669587,
          1.2920151521887213,
          -37.94315657189529,
          -48.24859405107775,
          -42.33405076617541,
          29.208635169167234,
          -114.25276506437228,
          28.537156236977847,
          -220.6853587032202,
          10.885203966706694,
          -77.59183093824726,
          -2.0941538507930915,
          107.73935472809065,
          22.21776304879979,
          385.2015542013029,
          17.838739391275567,
          165.7094933334927,
          77.0056613964268,
          26.280700672885036,
          -216.710276704081,
          -101.518076062363,
          280.70847290384467,
          -99.430057530115,
          119.95740039964963,
          -53.15980943174219,
          32.921562898766055,
          -48.33703907841717,
          159.29155559299323,
          276.8523565648452,
          -139.95809588697222,
          -48.25559646075031,
          -61.379192385253575,
          96.84170160834178,
          -218.94205050645806,
          167.58782404419998,
          40.969439842156426,
          -28.99567419251821,
          -23.370599501203678,
          138.26909769117913,
          -121.3138399324169,
          -98.40770518915551,
          -127.96921440977978,
          85.10335109170373,
          -97.38005225585161,
          -64.52310513714093,
          12.78501960071354,
          -90.1811750346173,
          2.0266909427963924,
          -9.384017116563385,
          -197.834785298575,
          181.83982392449295,
          29.864700886896387,
          132.53285474801413,
          -136.49368531556132,
          -1.744025850626624,
          -101.89469403215404,
          82.28550040107969,
          -195.07695258869117,
          -164.73072109820598,
          44.18193986273009,
          25.01564241453208,
          -31.346437808669407,
          226.8545216065628,
          107.34586493042687,
          49.30205322629903,
          97.43425185902927,
          -156.02816889986138
         ]
        },
        {
         "type": "surface",
         "x": [
          -5,
          -3.888888888888889,
          -2.7777777777777777,
          -1.6666666666666665,
          -0.5555555555555554,
          0.5555555555555554,
          1.666666666666667,
          2.7777777777777786,
          3.8888888888888893,
          5
         ],
         "y": [
          -5,
          -3.888888888888889,
          -2.7777777777777777,
          -1.6666666666666665,
          -0.5555555555555554,
          0.5555555555555554,
          1.666666666666667,
          2.7777777777777786,
          3.8888888888888893,
          5
         ],
         "z": [
          [
           -667.536025246774,
           -578.8335443212817,
           -490.1310633957893,
           -401.42858247029693,
           -312.7261015448046,
           -224.02362061931228,
           -135.32113969381987,
           -46.61865876832749,
           42.08382215716483,
           130.78630308265718
          ],
          [
           -608.1950314574055,
           -519.4925505319131,
           -430.7900696064208,
           -342.08758868092843,
           -253.3851077554361,
           -164.68262682994379,
           -75.9801459044514,
           12.72233502104098,
           101.4248159465333,
           190.12729687202565
          ],
          [
           -548.8540376680371,
           -460.1515567425447,
           -371.44907581705235,
           -282.74659489156,
           -194.04411396606764,
           -105.34163304057532,
           -16.639152115082926,
           72.06332881040946,
           160.76580973590177,
           249.46829066139412
          ],
          [
           -489.5130438786686,
           -400.81056295317626,
           -312.10808202768385,
           -223.40560110219153,
           -134.70312017669917,
           -46.00063925120684,
           42.70184167428555,
           131.40432259977794,
           220.10680352527027,
           308.8092844507626
          ],
          [
           -430.1720500893001,
           -341.46956916380776,
           -252.7670882383154,
           -164.06460731282306,
           -75.36212638733069,
           13.340354538161634,
           102.04283546365403,
           190.7453163891464,
           279.44779731463876,
           368.1502782401311
          ],
          [
           -370.8310562999317,
           -282.1285753744393,
           -193.42609444894697,
           -104.72361352345462,
           -16.02113259796224,
           72.68134832753007,
           161.38382925302247,
           250.08631017851485,
           338.7887911040072,
           427.49127202949956
          ],
          [
           -311.4900625105632,
           -222.78758158507085,
           -134.08510065957847,
           -45.382619734086106,
           43.31986119140626,
           132.02234211689859,
           220.72482304239097,
           309.4273039678834,
           398.1297848933757,
           486.83226581886805
          ],
          [
           -252.1490687211947,
           -163.44658779570236,
           -74.74410687020996,
           13.958374055282391,
           102.66085498077476,
           191.36333590626708,
           280.0658168317595,
           368.7682977572519,
           457.4707786827442,
           546.1732596082365
          ],
          [
           -192.80807493182624,
           -104.10559400633389,
           -15.403113080841507,
           73.29936784465085,
           162.0018487701432,
           250.70432969563552,
           339.40681062112793,
           428.10929154662034,
           516.8117724721127,
           605.514253397605
          ],
          [
           -133.4670811424578,
           -44.764600216965434,
           43.93788070852695,
           132.64036163401929,
           221.34284255951167,
           310.045323485004,
           398.7478044104964,
           487.4502853359888,
           576.1527662614811,
           664.8552471869734
          ]
         ]
        }
       ],
       "layout": {
        "autosize": true,
        "legend": {
         "tracegroupgap": 0
        },
        "margin": {
         "t": 60
        },
        "scene": {
         "aspectmode": "auto",
         "aspectratio": {
          "x": 1,
          "y": 1,
          "z": 1
         },
         "camera": {
          "center": {
           "x": 0,
           "y": 0,
           "z": 0
          },
          "eye": {
           "x": -0.18041248202466684,
           "y": 0.2105392156943814,
           "z": 2.036657656508796
          },
          "projection": {
           "type": "perspective"
          },
          "up": {
           "x": -0.01411299517943958,
           "y": -0.010587822422792983,
           "z": 0.9998443485780218
          }
         },
         "domain": {
          "x": [
           0,
           1
          ],
          "y": [
           0,
           1
          ]
         },
         "xaxis": {
          "title": {
           "text": "feature1"
          },
          "type": "linear"
         },
         "yaxis": {
          "title": {
           "text": "feature2"
          },
          "type": "linear"
         },
         "zaxis": {
          "title": {
           "text": "target"
          },
          "type": "linear"
         }
        },
        "template": {
         "data": {
          "bar": [
           {
            "error_x": {
             "color": "#2a3f5f"
            },
            "error_y": {
             "color": "#2a3f5f"
            },
            "marker": {
             "line": {
              "color": "#E5ECF6",
              "width": 0.5
             },
             "pattern": {
              "fillmode": "overlay",
              "size": 10,
              "solidity": 0.2
             }
            },
            "type": "bar"
           }
          ],
          "barpolar": [
           {
            "marker": {
             "line": {
              "color": "#E5ECF6",
              "width": 0.5
             },
             "pattern": {
              "fillmode": "overlay",
              "size": 10,
              "solidity": 0.2
             }
            },
            "type": "barpolar"
           }
          ],
          "carpet": [
           {
            "aaxis": {
             "endlinecolor": "#2a3f5f",
             "gridcolor": "white",
             "linecolor": "white",
             "minorgridcolor": "white",
             "startlinecolor": "#2a3f5f"
            },
            "baxis": {
             "endlinecolor": "#2a3f5f",
             "gridcolor": "white",
             "linecolor": "white",
             "minorgridcolor": "white",
             "startlinecolor": "#2a3f5f"
            },
            "type": "carpet"
           }
          ],
          "choropleth": [
           {
            "colorbar": {
             "outlinewidth": 0,
             "ticks": ""
            },
            "type": "choropleth"
           }
          ],
          "contour": [
           {
            "colorbar": {
             "outlinewidth": 0,
             "ticks": ""
            },
            "colorscale": [
             [
              0,
              "#0d0887"
             ],
             [
              0.1111111111111111,
              "#46039f"
             ],
             [
              0.2222222222222222,
              "#7201a8"
             ],
             [
              0.3333333333333333,
              "#9c179e"
             ],
             [
              0.4444444444444444,
              "#bd3786"
             ],
             [
              0.5555555555555556,
              "#d8576b"
             ],
             [
              0.6666666666666666,
              "#ed7953"
             ],
             [
              0.7777777777777778,
              "#fb9f3a"
             ],
             [
              0.8888888888888888,
              "#fdca26"
             ],
             [
              1,
              "#f0f921"
             ]
            ],
            "type": "contour"
           }
          ],
          "contourcarpet": [
           {
            "colorbar": {
             "outlinewidth": 0,
             "ticks": ""
            },
            "type": "contourcarpet"
           }
          ],
          "heatmap": [
           {
            "colorbar": {
             "outlinewidth": 0,
             "ticks": ""
            },
            "colorscale": [
             [
              0,
              "#0d0887"
             ],
             [
              0.1111111111111111,
              "#46039f"
             ],
             [
              0.2222222222222222,
              "#7201a8"
             ],
             [
              0.3333333333333333,
              "#9c179e"
             ],
             [
              0.4444444444444444,
              "#bd3786"
             ],
             [
              0.5555555555555556,
              "#d8576b"
             ],
             [
              0.6666666666666666,
              "#ed7953"
             ],
             [
              0.7777777777777778,
              "#fb9f3a"
             ],
             [
              0.8888888888888888,
              "#fdca26"
             ],
             [
              1,
              "#f0f921"
             ]
            ],
            "type": "heatmap"
           }
          ],
          "heatmapgl": [
           {
            "colorbar": {
             "outlinewidth": 0,
             "ticks": ""
            },
            "colorscale": [
             [
              0,
              "#0d0887"
             ],
             [
              0.1111111111111111,
              "#46039f"
             ],
             [
              0.2222222222222222,
              "#7201a8"
             ],
             [
              0.3333333333333333,
              "#9c179e"
             ],
             [
              0.4444444444444444,
              "#bd3786"
             ],
             [
              0.5555555555555556,
              "#d8576b"
             ],
             [
              0.6666666666666666,
              "#ed7953"
             ],
             [
              0.7777777777777778,
              "#fb9f3a"
             ],
             [
              0.8888888888888888,
              "#fdca26"
             ],
             [
              1,
              "#f0f921"
             ]
            ],
            "type": "heatmapgl"
           }
          ],
          "histogram": [
           {
            "marker": {
             "pattern": {
              "fillmode": "overlay",
              "size": 10,
              "solidity": 0.2
             }
            },
            "type": "histogram"
           }
          ],
          "histogram2d": [
           {
            "colorbar": {
             "outlinewidth": 0,
             "ticks": ""
            },
            "colorscale": [
             [
              0,
              "#0d0887"
             ],
             [
              0.1111111111111111,
              "#46039f"
             ],
             [
              0.2222222222222222,
              "#7201a8"
             ],
             [
              0.3333333333333333,
              "#9c179e"
             ],
             [
              0.4444444444444444,
              "#bd3786"
             ],
             [
              0.5555555555555556,
              "#d8576b"
             ],
             [
              0.6666666666666666,
              "#ed7953"
             ],
             [
              0.7777777777777778,
              "#fb9f3a"
             ],
             [
              0.8888888888888888,
              "#fdca26"
             ],
             [
              1,
              "#f0f921"
             ]
            ],
            "type": "histogram2d"
           }
          ],
          "histogram2dcontour": [
           {
            "colorbar": {
             "outlinewidth": 0,
             "ticks": ""
            },
            "colorscale": [
             [
              0,
              "#0d0887"
             ],
             [
              0.1111111111111111,
              "#46039f"
             ],
             [
              0.2222222222222222,
              "#7201a8"
             ],
             [
              0.3333333333333333,
              "#9c179e"
             ],
             [
              0.4444444444444444,
              "#bd3786"
             ],
             [
              0.5555555555555556,
              "#d8576b"
             ],
             [
              0.6666666666666666,
              "#ed7953"
             ],
             [
              0.7777777777777778,
              "#fb9f3a"
             ],
             [
              0.8888888888888888,
              "#fdca26"
             ],
             [
              1,
              "#f0f921"
             ]
            ],
            "type": "histogram2dcontour"
           }
          ],
          "mesh3d": [
           {
            "colorbar": {
             "outlinewidth": 0,
             "ticks": ""
            },
            "type": "mesh3d"
           }
          ],
          "parcoords": [
           {
            "line": {
             "colorbar": {
              "outlinewidth": 0,
              "ticks": ""
             }
            },
            "type": "parcoords"
           }
          ],
          "pie": [
           {
            "automargin": true,
            "type": "pie"
           }
          ],
          "scatter": [
           {
            "fillpattern": {
             "fillmode": "overlay",
             "size": 10,
             "solidity": 0.2
            },
            "type": "scatter"
           }
          ],
          "scatter3d": [
           {
            "line": {
             "colorbar": {
              "outlinewidth": 0,
              "ticks": ""
             }
            },
            "marker": {
             "colorbar": {
              "outlinewidth": 0,
              "ticks": ""
             }
            },
            "type": "scatter3d"
           }
          ],
          "scattercarpet": [
           {
            "marker": {
             "colorbar": {
              "outlinewidth": 0,
              "ticks": ""
             }
            },
            "type": "scattercarpet"
           }
          ],
          "scattergeo": [
           {
            "marker": {
             "colorbar": {
              "outlinewidth": 0,
              "ticks": ""
             }
            },
            "type": "scattergeo"
           }
          ],
          "scattergl": [
           {
            "marker": {
             "colorbar": {
              "outlinewidth": 0,
              "ticks": ""
             }
            },
            "type": "scattergl"
           }
          ],
          "scattermapbox": [
           {
            "marker": {
             "colorbar": {
              "outlinewidth": 0,
              "ticks": ""
             }
            },
            "type": "scattermapbox"
           }
          ],
          "scatterpolar": [
           {
            "marker": {
             "colorbar": {
              "outlinewidth": 0,
              "ticks": ""
             }
            },
            "type": "scatterpolar"
           }
          ],
          "scatterpolargl": [
           {
            "marker": {
             "colorbar": {
              "outlinewidth": 0,
              "ticks": ""
             }
            },
            "type": "scatterpolargl"
           }
          ],
          "scatterternary": [
           {
            "marker": {
             "colorbar": {
              "outlinewidth": 0,
              "ticks": ""
             }
            },
            "type": "scatterternary"
           }
          ],
          "surface": [
           {
            "colorbar": {
             "outlinewidth": 0,
             "ticks": ""
            },
            "colorscale": [
             [
              0,
              "#0d0887"
             ],
             [
              0.1111111111111111,
              "#46039f"
             ],
             [
              0.2222222222222222,
              "#7201a8"
             ],
             [
              0.3333333333333333,
              "#9c179e"
             ],
             [
              0.4444444444444444,
              "#bd3786"
             ],
             [
              0.5555555555555556,
              "#d8576b"
             ],
             [
              0.6666666666666666,
              "#ed7953"
             ],
             [
              0.7777777777777778,
              "#fb9f3a"
             ],
             [
              0.8888888888888888,
              "#fdca26"
             ],
             [
              1,
              "#f0f921"
             ]
            ],
            "type": "surface"
           }
          ],
          "table": [
           {
            "cells": {
             "fill": {
              "color": "#EBF0F8"
             },
             "line": {
              "color": "white"
             }
            },
            "header": {
             "fill": {
              "color": "#C8D4E3"
             },
             "line": {
              "color": "white"
             }
            },
            "type": "table"
           }
          ]
         },
         "layout": {
          "annotationdefaults": {
           "arrowcolor": "#2a3f5f",
           "arrowhead": 0,
           "arrowwidth": 1
          },
          "autotypenumbers": "strict",
          "coloraxis": {
           "colorbar": {
            "outlinewidth": 0,
            "ticks": ""
           }
          },
          "colorscale": {
           "diverging": [
            [
             0,
             "#8e0152"
            ],
            [
             0.1,
             "#c51b7d"
            ],
            [
             0.2,
             "#de77ae"
            ],
            [
             0.3,
             "#f1b6da"
            ],
            [
             0.4,
             "#fde0ef"
            ],
            [
             0.5,
             "#f7f7f7"
            ],
            [
             0.6,
             "#e6f5d0"
            ],
            [
             0.7,
             "#b8e186"
            ],
            [
             0.8,
             "#7fbc41"
            ],
            [
             0.9,
             "#4d9221"
            ],
            [
             1,
             "#276419"
            ]
           ],
           "sequential": [
            [
             0,
             "#0d0887"
            ],
            [
             0.1111111111111111,
             "#46039f"
            ],
            [
             0.2222222222222222,
             "#7201a8"
            ],
            [
             0.3333333333333333,
             "#9c179e"
            ],
            [
             0.4444444444444444,
             "#bd3786"
            ],
            [
             0.5555555555555556,
             "#d8576b"
            ],
            [
             0.6666666666666666,
             "#ed7953"
            ],
            [
             0.7777777777777778,
             "#fb9f3a"
            ],
            [
             0.8888888888888888,
             "#fdca26"
            ],
            [
             1,
             "#f0f921"
            ]
           ],
           "sequentialminus": [
            [
             0,
             "#0d0887"
            ],
            [
             0.1111111111111111,
             "#46039f"
            ],
            [
             0.2222222222222222,
             "#7201a8"
            ],
            [
             0.3333333333333333,
             "#9c179e"
            ],
            [
             0.4444444444444444,
             "#bd3786"
            ],
            [
             0.5555555555555556,
             "#d8576b"
            ],
            [
             0.6666666666666666,
             "#ed7953"
            ],
            [
             0.7777777777777778,
             "#fb9f3a"
            ],
            [
             0.8888888888888888,
             "#fdca26"
            ],
            [
             1,
             "#f0f921"
            ]
           ]
          },
          "colorway": [
           "#636efa",
           "#EF553B",
           "#00cc96",
           "#ab63fa",
           "#FFA15A",
           "#19d3f3",
           "#FF6692",
           "#B6E880",
           "#FF97FF",
           "#FECB52"
          ],
          "font": {
           "color": "#2a3f5f"
          },
          "geo": {
           "bgcolor": "white",
           "lakecolor": "white",
           "landcolor": "#E5ECF6",
           "showlakes": true,
           "showland": true,
           "subunitcolor": "white"
          },
          "hoverlabel": {
           "align": "left"
          },
          "hovermode": "closest",
          "mapbox": {
           "style": "light"
          },
          "paper_bgcolor": "white",
          "plot_bgcolor": "#E5ECF6",
          "polar": {
           "angularaxis": {
            "gridcolor": "white",
            "linecolor": "white",
            "ticks": ""
           },
           "bgcolor": "#E5ECF6",
           "radialaxis": {
            "gridcolor": "white",
            "linecolor": "white",
            "ticks": ""
           }
          },
          "scene": {
           "xaxis": {
            "backgroundcolor": "#E5ECF6",
            "gridcolor": "white",
            "gridwidth": 2,
            "linecolor": "white",
            "showbackground": true,
            "ticks": "",
            "zerolinecolor": "white"
           },
           "yaxis": {
            "backgroundcolor": "#E5ECF6",
            "gridcolor": "white",
            "gridwidth": 2,
            "linecolor": "white",
            "showbackground": true,
            "ticks": "",
            "zerolinecolor": "white"
           },
           "zaxis": {
            "backgroundcolor": "#E5ECF6",
            "gridcolor": "white",
            "gridwidth": 2,
            "linecolor": "white",
            "showbackground": true,
            "ticks": "",
            "zerolinecolor": "white"
           }
          },
          "shapedefaults": {
           "line": {
            "color": "#2a3f5f"
           }
          },
          "ternary": {
           "aaxis": {
            "gridcolor": "white",
            "linecolor": "white",
            "ticks": ""
           },
           "baxis": {
            "gridcolor": "white",
            "linecolor": "white",
            "ticks": ""
           },
           "bgcolor": "#E5ECF6",
           "caxis": {
            "gridcolor": "white",
            "linecolor": "white",
            "ticks": ""
           }
          },
          "title": {
           "x": 0.05
          },
          "xaxis": {
           "automargin": true,
           "gridcolor": "white",
           "linecolor": "white",
           "ticks": "",
           "title": {
            "standoff": 15
           },
           "zerolinecolor": "white",
           "zerolinewidth": 2
          },
          "yaxis": {
           "automargin": true,
           "gridcolor": "white",
           "linecolor": "white",
           "ticks": "",
           "title": {
            "standoff": 15
           },
           "zerolinecolor": "white",
           "zerolinewidth": 2
          }
         }
        }
       }
      },
      "image/png": "[encoded data removed]",
      "text/html": [
       "<div>                            <div id=\"3569d1c0-126d-444f-a4df-fd6df641779a\" class=\"plotly-graph-div\" style=\"height:525px; width:100%;\"></div>            <script type=\"text/javascript\">                require([\"plotly\"], function(Plotly) {                    window.PLOTLYENV=window.PLOTLYENV || {};                                    if (document.getElementById(\"3569d1c0-126d-444f-a4df-fd6df641779a\")) {                    Plotly.newPlot(                        \"3569d1c0-126d-444f-a4df-fd6df641779a\",                        [{\"hovertemplate\":\"feature1=%{x}<br>feature2=%{y}<br>target=%{z}<extra></extra>\",\"legendgroup\":\"\",\"marker\":{\"color\":\"#636efa\",\"symbol\":\"circle\"},\"mode\":\"markers\",\"name\":\"\",\"scene\":\"scene\",\"showlegend\":false,\"x\":[-0.07781466074865245,0.8544097462790767,1.627202807297954,1.2554533609083343,-0.3909451085514438,-1.3357058531432269,-1.601730071784324,0.9140957344128198,-0.4412116791961652,-0.3341327551059233,-1.0465823732828774,0.6598058105067832,-1.099010625602364,1.3051127064101573,1.4369966944372299,0.4259631918603295,0.7016065885599945,-1.2231530377692903,-0.08389651041790837,-0.029536092686822963,0.875708268158035,0.4603999275629208,0.009126815750440472,-0.7860334889624562,0.3970835104046034,0.2784740381204711,-1.5745081322655403,1.448566999619427,-0.20599414172853686,0.42372195867506446,-0.7465698755542881,1.0185298119437514,1.1128714850437469,2.067222598410944,-0.05310310045328674,0.9376170382629815,-0.4827197674209697,-0.04260161959090078,-1.2058974611141497,0.41192372558427687,0.001958719860056139,-0.7032252029413021,-0.11652220241321135,-0.8373291528493675,-0.30905748515524833,1.5472498680098434,-1.2901143530295933,2.6588573913801365,-0.22496423577250532,1.8570530526068014,1.2115141754067331,0.5373005904462408,-2.3614668394833265,-1.4483678882362554,3.2918413953408376,-1.4077977654884946,2.0232136660532056,-0.009738808441473401,-0.13385393933524975,-0.23459649184728806,1.8844788055200297,1.206802822717396,-2.018816165993361,-0.9453779479800852,-1.2185490830816945,0.9234231825952534,-0.9145058698619791,0.5266645993968017,-0.3316808224975738,-0.9168754085845868,-1.5116348873793266,0.9321298760283554,-1.6395059717371094,-1.2293674392331913,0.16768810314459687,0.5934019021854428,-0.3509092973051683,-0.8527766785677804,0.0553812863545597,0.10038223437322066,0.13474840695134688,1.2250044588904192,-0.8439053744065171,2.00507545537079,-0.8098307288694868,0.31289995714952534,-1.6468326280925922,0.9205898743333413,-1.1048419525910544,0.16387472211439524,-2.1777509348245334,-2.053711522161748,2.377008060378194,-0.3530019039189437,-1.0034557631484315,0.3516490290011782,0.8144992304345882,-0.3227996604257595,0.8124794691898873,-1.2112964477866435],\"y\":[-1.598122935914689,-0.5305963800325336,-0.3896691971232099,0.344096289237788,-0.7566209820753619,-1.0223949691928782,2.8814033601575573,1.3469504600334472,-1.2420782218093982,0.25692907285943173,-2.3142490754374028,-1.821659023565595,-0.6177527988355673,-0.39578724313939784,0.6228524029916461,-1.9831741166351655,0.3118704469711986,0.7737913818130521,0.6745849362036166,-0.018637312585139537,-1.5643509238321,-0.533464209180417,-0.5801024645372038,-1.2658669328442294,0.9197688906980286,0.4231083716994024,-0.782927840197278,-1.6755481468940057,0.4485872179939962,0.33936588713279836,-0.30968821603457525,-1.5076639229146025,1.1746856396936074,0.1404890261258624,0.08719802807725184,-0.5185334311830194,-1.0838736202714165,-0.26687508467382987,1.3612024883024345,-1.4667222652087673,-0.030936042477262962,-0.8444634065926652,0.7177287469768646,0.059234168645946036,0.13170376504397344,-0.13087772509341772,2.5557529225111035,1.022217462383853,-0.36925678064783657,0.7884550108227841,-0.9832909285653808,-0.29656290382503264,0.23359709551601487,-1.0039568088920616,0.43775114756440336,0.8003627203626742,-0.5333305770443788,-0.12199485127225863,0.5419277265134116,1.0899735416852951,-0.22075017049690676,2.4506731583924837,-0.01537651803331468,1.311618196861581,1.0364327669593234,0.2944111577541394,-3.2184096365061734,0.5308739121015135,0.8603842806412882,-0.27179714433009766,2.15274351404967,-0.653843321011799,0.3124455036239132,0.33300347646892237,-2.6895953860990773,0.14735057943638286,-0.6907913613602431,0.2923822873799445,-0.32273984633223024,-2.14073593237019,0.5697373673723514,-0.07524041467662287,-1.5163896569985895,0.6397796837172659,2.3318579319492336,0.6348157101197751,-0.5183185207872084,-2.036518721702989,0.8378320966740742,1.525040761575355,-1.3462417283159798,0.367612613583482,-1.5863370406925752,0.4925028863359149,1.2352359072542876,1.3352816464636539,1.378189698706249,0.8223665859986763,1.6086201192416738,-0.6051762113651998],\"z\":[-82.56210483825468,33.02251364378772,110.31704386006196,-21.557583869853616,-11.980704070365789,-219.70895236703245,62.03458955247727,190.8643965645543,-110.56997126885696,2.210040664035944,-174.36507807861912,-122.6683649633083,-53.98583086733616,48.949453170907375,266.55264545999785,-76.99037794506098,62.00521592087864,-94.03559652531027,27.22141220926547,7.154094106206328,130.5100265243654,-28.500705157199132,-6.181912437894958,-114.65200733238896,72.7113398480185,42.34804000664669,-77.58308674721502,21.769065049982117,-16.675848712115545,-29.83414598749129,-212.4164075795365,-40.35656334381344,166.00211750909773,134.81763422669587,1.2920151521887213,-37.94315657189529,-48.24859405107775,-42.33405076617541,29.208635169167234,-114.25276506437228,28.537156236977847,-220.6853587032202,10.885203966706694,-77.59183093824726,-2.0941538507930915,107.73935472809065,22.21776304879979,385.2015542013029,17.838739391275567,165.7094933334927,77.0056613964268,26.280700672885036,-216.710276704081,-101.518076062363,280.70847290384467,-99.430057530115,119.95740039964963,-53.15980943174219,32.921562898766055,-48.33703907841717,159.29155559299323,276.8523565648452,-139.95809588697222,-48.25559646075031,-61.379192385253575,96.84170160834178,-218.94205050645806,167.58782404419998,40.969439842156426,-28.99567419251821,-23.370599501203678,138.26909769117913,-121.3138399324169,-98.40770518915551,-127.96921440977978,85.10335109170373,-97.38005225585161,-64.52310513714093,12.78501960071354,-90.1811750346173,2.0266909427963924,-9.384017116563385,-197.834785298575,181.83982392449295,29.864700886896387,132.53285474801413,-136.49368531556132,-1.744025850626624,-101.89469403215404,82.28550040107969,-195.07695258869117,-164.73072109820598,44.18193986273009,25.01564241453208,-31.346437808669407,226.8545216065628,107.34586493042687,49.30205322629903,97.43425185902927,-156.02816889986138],\"type\":\"scatter3d\"},{\"x\":[-5.0,-3.888888888888889,-2.7777777777777777,-1.6666666666666665,-0.5555555555555554,0.5555555555555554,1.666666666666667,2.7777777777777786,3.8888888888888893,5.0],\"y\":[-5.0,-3.888888888888889,-2.7777777777777777,-1.6666666666666665,-0.5555555555555554,0.5555555555555554,1.666666666666667,2.7777777777777786,3.8888888888888893,5.0],\"z\":[[-667.536025246774,-578.8335443212817,-490.1310633957893,-401.42858247029693,-312.7261015448046,-224.02362061931228,-135.32113969381987,-46.61865876832749,42.08382215716483,130.78630308265718],[-608.1950314574055,-519.4925505319131,-430.7900696064208,-342.08758868092843,-253.3851077554361,-164.68262682994379,-75.9801459044514,12.72233502104098,101.4248159465333,190.12729687202565],[-548.8540376680371,-460.1515567425447,-371.44907581705235,-282.74659489156,-194.04411396606764,-105.34163304057532,-16.639152115082926,72.06332881040946,160.76580973590177,249.46829066139412],[-489.5130438786686,-400.81056295317626,-312.10808202768385,-223.40560110219153,-134.70312017669917,-46.00063925120684,42.70184167428555,131.40432259977794,220.10680352527027,308.8092844507626],[-430.1720500893001,-341.46956916380776,-252.7670882383154,-164.06460731282306,-75.36212638733069,13.340354538161634,102.04283546365403,190.7453163891464,279.44779731463876,368.1502782401311],[-370.8310562999317,-282.1285753744393,-193.42609444894697,-104.72361352345462,-16.02113259796224,72.68134832753007,161.38382925302247,250.08631017851485,338.7887911040072,427.49127202949956],[-311.4900625105632,-222.78758158507085,-134.08510065957847,-45.382619734086106,43.31986119140626,132.02234211689859,220.72482304239097,309.4273039678834,398.1297848933757,486.83226581886805],[-252.1490687211947,-163.44658779570236,-74.74410687020996,13.958374055282391,102.66085498077476,191.36333590626708,280.0658168317595,368.7682977572519,457.4707786827442,546.1732596082365],[-192.80807493182624,-104.10559400633389,-15.403113080841507,73.29936784465085,162.0018487701432,250.70432969563552,339.40681062112793,428.10929154662034,516.8117724721127,605.514253397605],[-133.4670811424578,-44.764600216965434,43.93788070852695,132.64036163401929,221.34284255951167,310.045323485004,398.7478044104964,487.4502853359888,576.1527662614811,664.8552471869734]],\"type\":\"surface\"}],                        {\"template\":{\"data\":{\"histogram2dcontour\":[{\"type\":\"histogram2dcontour\",\"colorbar\":{\"outlinewidth\":0,\"ticks\":\"\"},\"colorscale\":[[0.0,\"#0d0887\"],[0.1111111111111111,\"#46039f\"],[0.2222222222222222,\"#7201a8\"],[0.3333333333333333,\"#9c179e\"],[0.4444444444444444,\"#bd3786\"],[0.5555555555555556,\"#d8576b\"],[0.6666666666666666,\"#ed7953\"],[0.7777777777777778,\"#fb9f3a\"],[0.8888888888888888,\"#fdca26\"],[1.0,\"#f0f921\"]]}],\"choropleth\":[{\"type\":\"choropleth\",\"colorbar\":{\"outlinewidth\":0,\"ticks\":\"\"}}],\"histogram2d\":[{\"type\":\"histogram2d\",\"colorbar\":{\"outlinewidth\":0,\"ticks\":\"\"},\"colorscale\":[[0.0,\"#0d0887\"],[0.1111111111111111,\"#46039f\"],[0.2222222222222222,\"#7201a8\"],[0.3333333333333333,\"#9c179e\"],[0.4444444444444444,\"#bd3786\"],[0.5555555555555556,\"#d8576b\"],[0.6666666666666666,\"#ed7953\"],[0.7777777777777778,\"#fb9f3a\"],[0.8888888888888888,\"#fdca26\"],[1.0,\"#f0f921\"]]}],\"heatmap\":[{\"type\":\"heatmap\",\"colorbar\":{\"outlinewidth\":0,\"ticks\":\"\"},\"colorscale\":[[0.0,\"#0d0887\"],[0.1111111111111111,\"#46039f\"],[0.2222222222222222,\"#7201a8\"],[0.3333333333333333,\"#9c179e\"],[0.4444444444444444,\"#bd3786\"],[0.5555555555555556,\"#d8576b\"],[0.6666666666666666,\"#ed7953\"],[0.7777777777777778,\"#fb9f3a\"],[0.8888888888888888,\"#fdca26\"],[1.0,\"#f0f921\"]]}],\"heatmapgl\":[{\"type\":\"heatmapgl\",\"colorbar\":{\"outlinewidth\":0,\"ticks\":\"\"},\"colorscale\":[[0.0,\"#0d0887\"],[0.1111111111111111,\"#46039f\"],[0.2222222222222222,\"#7201a8\"],[0.3333333333333333,\"#9c179e\"],[0.4444444444444444,\"#bd3786\"],[0.5555555555555556,\"#d8576b\"],[0.6666666666666666,\"#ed7953\"],[0.7777777777777778,\"#fb9f3a\"],[0.8888888888888888,\"#fdca26\"],[1.0,\"#f0f921\"]]}],\"contourcarpet\":[{\"type\":\"contourcarpet\",\"colorbar\":{\"outlinewidth\":0,\"ticks\":\"\"}}],\"contour\":[{\"type\":\"contour\",\"colorbar\":{\"outlinewidth\":0,\"ticks\":\"\"},\"colorscale\":[[0.0,\"#0d0887\"],[0.1111111111111111,\"#46039f\"],[0.2222222222222222,\"#7201a8\"],[0.3333333333333333,\"#9c179e\"],[0.4444444444444444,\"#bd3786\"],[0.5555555555555556,\"#d8576b\"],[0.6666666666666666,\"#ed7953\"],[0.7777777777777778,\"#fb9f3a\"],[0.8888888888888888,\"#fdca26\"],[1.0,\"#f0f921\"]]}],\"surface\":[{\"type\":\"surface\",\"colorbar\":{\"outlinewidth\":0,\"ticks\":\"\"},\"colorscale\":[[0.0,\"#0d0887\"],[0.1111111111111111,\"#46039f\"],[0.2222222222222222,\"#7201a8\"],[0.3333333333333333,\"#9c179e\"],[0.4444444444444444,\"#bd3786\"],[0.5555555555555556,\"#d8576b\"],[0.6666666666666666,\"#ed7953\"],[0.7777777777777778,\"#fb9f3a\"],[0.8888888888888888,\"#fdca26\"],[1.0,\"#f0f921\"]]}],\"mesh3d\":[{\"type\":\"mesh3d\",\"colorbar\":{\"outlinewidth\":0,\"ticks\":\"\"}}],\"scatter\":[{\"fillpattern\":{\"fillmode\":\"overlay\",\"size\":10,\"solidity\":0.2},\"type\":\"scatter\"}],\"parcoords\":[{\"type\":\"parcoords\",\"line\":{\"colorbar\":{\"outlinewidth\":0,\"ticks\":\"\"}}}],\"scatterpolargl\":[{\"type\":\"scatterpolargl\",\"marker\":{\"colorbar\":{\"outlinewidth\":0,\"ticks\":\"\"}}}],\"bar\":[{\"error_x\":{\"color\":\"#2a3f5f\"},\"error_y\":{\"color\":\"#2a3f5f\"},\"marker\":{\"line\":{\"color\":\"#E5ECF6\",\"width\":0.5},\"pattern\":{\"fillmode\":\"overlay\",\"size\":10,\"solidity\":0.2}},\"type\":\"bar\"}],\"scattergeo\":[{\"type\":\"scattergeo\",\"marker\":{\"colorbar\":{\"outlinewidth\":0,\"ticks\":\"\"}}}],\"scatterpolar\":[{\"type\":\"scatterpolar\",\"marker\":{\"colorbar\":{\"outlinewidth\":0,\"ticks\":\"\"}}}],\"histogram\":[{\"marker\":{\"pattern\":{\"fillmode\":\"overlay\",\"size\":10,\"solidity\":0.2}},\"type\":\"histogram\"}],\"scattergl\":[{\"type\":\"scattergl\",\"marker\":{\"colorbar\":{\"outlinewidth\":0,\"ticks\":\"\"}}}],\"scatter3d\":[{\"type\":\"scatter3d\",\"line\":{\"colorbar\":{\"outlinewidth\":0,\"ticks\":\"\"}},\"marker\":{\"colorbar\":{\"outlinewidth\":0,\"ticks\":\"\"}}}],\"scattermapbox\":[{\"type\":\"scattermapbox\",\"marker\":{\"colorbar\":{\"outlinewidth\":0,\"ticks\":\"\"}}}],\"scatterternary\":[{\"type\":\"scatterternary\",\"marker\":{\"colorbar\":{\"outlinewidth\":0,\"ticks\":\"\"}}}],\"scattercarpet\":[{\"type\":\"scattercarpet\",\"marker\":{\"colorbar\":{\"outlinewidth\":0,\"ticks\":\"\"}}}],\"carpet\":[{\"aaxis\":{\"endlinecolor\":\"#2a3f5f\",\"gridcolor\":\"white\",\"linecolor\":\"white\",\"minorgridcolor\":\"white\",\"startlinecolor\":\"#2a3f5f\"},\"baxis\":{\"endlinecolor\":\"#2a3f5f\",\"gridcolor\":\"white\",\"linecolor\":\"white\",\"minorgridcolor\":\"white\",\"startlinecolor\":\"#2a3f5f\"},\"type\":\"carpet\"}],\"table\":[{\"cells\":{\"fill\":{\"color\":\"#EBF0F8\"},\"line\":{\"color\":\"white\"}},\"header\":{\"fill\":{\"color\":\"#C8D4E3\"},\"line\":{\"color\":\"white\"}},\"type\":\"table\"}],\"barpolar\":[{\"marker\":{\"line\":{\"color\":\"#E5ECF6\",\"width\":0.5},\"pattern\":{\"fillmode\":\"overlay\",\"size\":10,\"solidity\":0.2}},\"type\":\"barpolar\"}],\"pie\":[{\"automargin\":true,\"type\":\"pie\"}]},\"layout\":{\"autotypenumbers\":\"strict\",\"colorway\":[\"#636efa\",\"#EF553B\",\"#00cc96\",\"#ab63fa\",\"#FFA15A\",\"#19d3f3\",\"#FF6692\",\"#B6E880\",\"#FF97FF\",\"#FECB52\"],\"font\":{\"color\":\"#2a3f5f\"},\"hovermode\":\"closest\",\"hoverlabel\":{\"align\":\"left\"},\"paper_bgcolor\":\"white\",\"plot_bgcolor\":\"#E5ECF6\",\"polar\":{\"bgcolor\":\"#E5ECF6\",\"angularaxis\":{\"gridcolor\":\"white\",\"linecolor\":\"white\",\"ticks\":\"\"},\"radialaxis\":{\"gridcolor\":\"white\",\"linecolor\":\"white\",\"ticks\":\"\"}},\"ternary\":{\"bgcolor\":\"#E5ECF6\",\"aaxis\":{\"gridcolor\":\"white\",\"linecolor\":\"white\",\"ticks\":\"\"},\"baxis\":{\"gridcolor\":\"white\",\"linecolor\":\"white\",\"ticks\":\"\"},\"caxis\":{\"gridcolor\":\"white\",\"linecolor\":\"white\",\"ticks\":\"\"}},\"coloraxis\":{\"colorbar\":{\"outlinewidth\":0,\"ticks\":\"\"}},\"colorscale\":{\"sequential\":[[0.0,\"#0d0887\"],[0.1111111111111111,\"#46039f\"],[0.2222222222222222,\"#7201a8\"],[0.3333333333333333,\"#9c179e\"],[0.4444444444444444,\"#bd3786\"],[0.5555555555555556,\"#d8576b\"],[0.6666666666666666,\"#ed7953\"],[0.7777777777777778,\"#fb9f3a\"],[0.8888888888888888,\"#fdca26\"],[1.0,\"#f0f921\"]],\"sequentialminus\":[[0.0,\"#0d0887\"],[0.1111111111111111,\"#46039f\"],[0.2222222222222222,\"#7201a8\"],[0.3333333333333333,\"#9c179e\"],[0.4444444444444444,\"#bd3786\"],[0.5555555555555556,\"#d8576b\"],[0.6666666666666666,\"#ed7953\"],[0.7777777777777778,\"#fb9f3a\"],[0.8888888888888888,\"#fdca26\"],[1.0,\"#f0f921\"]],\"diverging\":[[0,\"#8e0152\"],[0.1,\"#c51b7d\"],[0.2,\"#de77ae\"],[0.3,\"#f1b6da\"],[0.4,\"#fde0ef\"],[0.5,\"#f7f7f7\"],[0.6,\"#e6f5d0\"],[0.7,\"#b8e186\"],[0.8,\"#7fbc41\"],[0.9,\"#4d9221\"],[1,\"#276419\"]]},\"xaxis\":{\"gridcolor\":\"white\",\"linecolor\":\"white\",\"ticks\":\"\",\"title\":{\"standoff\":15},\"zerolinecolor\":\"white\",\"automargin\":true,\"zerolinewidth\":2},\"yaxis\":{\"gridcolor\":\"white\",\"linecolor\":\"white\",\"ticks\":\"\",\"title\":{\"standoff\":15},\"zerolinecolor\":\"white\",\"automargin\":true,\"zerolinewidth\":2},\"scene\":{\"xaxis\":{\"backgroundcolor\":\"#E5ECF6\",\"gridcolor\":\"white\",\"linecolor\":\"white\",\"showbackground\":true,\"ticks\":\"\",\"zerolinecolor\":\"white\",\"gridwidth\":2},\"yaxis\":{\"backgroundcolor\":\"#E5ECF6\",\"gridcolor\":\"white\",\"linecolor\":\"white\",\"showbackground\":true,\"ticks\":\"\",\"zerolinecolor\":\"white\",\"gridwidth\":2},\"zaxis\":{\"backgroundcolor\":\"#E5ECF6\",\"gridcolor\":\"white\",\"linecolor\":\"white\",\"showbackground\":true,\"ticks\":\"\",\"zerolinecolor\":\"white\",\"gridwidth\":2}},\"shapedefaults\":{\"line\":{\"color\":\"#2a3f5f\"}},\"annotationdefaults\":{\"arrowcolor\":\"#2a3f5f\",\"arrowhead\":0,\"arrowwidth\":1},\"geo\":{\"bgcolor\":\"white\",\"landcolor\":\"#E5ECF6\",\"subunitcolor\":\"white\",\"showland\":true,\"showlakes\":true,\"lakecolor\":\"white\"},\"title\":{\"x\":0.05},\"mapbox\":{\"style\":\"light\"}}},\"scene\":{\"domain\":{\"x\":[0.0,1.0],\"y\":[0.0,1.0]},\"xaxis\":{\"title\":{\"text\":\"feature1\"}},\"yaxis\":{\"title\":{\"text\":\"feature2\"}},\"zaxis\":{\"title\":{\"text\":\"target\"}}},\"legend\":{\"tracegroupgap\":0},\"margin\":{\"t\":60}},                        {\"responsive\": true}                    ).then(function(){\n",
       "                            \n",
       "var gd = document.getElementById('3569d1c0-126d-444f-a4df-fd6df641779a');\n",
       "var x = new MutationObserver(function (mutations, observer) {{\n",
       "        var display = window.getComputedStyle(gd).display;\n",
       "        if (!display || display === 'none') {{\n",
       "            console.log([gd, 'removed!']);\n",
       "            Plotly.purge(gd);\n",
       "            observer.disconnect();\n",
       "        }}\n",
       "}});\n",
       "\n",
       "// Listen for the removal of the full notebook cells\n",
       "var notebookContainer = gd.closest('#notebook-container');\n",
       "if (notebookContainer) {{\n",
       "    x.observe(notebookContainer, {childList: true});\n",
       "}}\n",
       "\n",
       "// Listen for the clearing of the current output cell\n",
       "var outputEl = gd.closest('.output');\n",
       "if (outputEl) {{\n",
       "    x.observe(outputEl, {childList: true});\n",
       "}}\n",
       "\n",
       "                        })                };                });            </script>        </div>"
      ]
     },
     "metadata": {},
     "output_type": "display_data"
    }
   ],
   "source": [
    "import numpy as np\n",
    "import plotly.express as px\n",
    "import plotly.graph_objects as go\n",
    "# not done by me trying to visulize using chatgpt\n",
    "# Assuming you have a dataframe 'df' with columns 'feature1', 'feature2', and 'target'\n",
    "\n",
    "# Create a meshgrid\n",
    "x = np.linspace(-5, 5, 10)\n",
    "y = np.linspace(-5, 5, 10)\n",
    "xGrid, yGrid = np.meshgrid(y, x)\n",
    "\n",
    "# Stack the grids vertically to form the 'final' input for prediction\n",
    "final = np.vstack((xGrid.ravel().reshape(1, 100), yGrid.ravel().reshape(1, 100))).T\n",
    "\n",
    "# Assuming 'model' is your trained model\n",
    "z_final = model.predict(final).reshape(10, 10)\n",
    "\n",
    "# Use the calculated z values for the surface plot\n",
    "z = z_final\n",
    "\n",
    "# Create a 3D scatter plot\n",
    "fig = px.scatter_3d(df, x='feature1', y='feature2', z='target')\n",
    "\n",
    "# Add a 3D surface plot\n",
    "fig.add_trace(go.Surface(x=x, y=y, z=z))\n",
    "\n",
    "# Show the plot\n",
    "fig.show()\n"
   ]
  },
  {
   "cell_type": "code",
   "execution_count": null,
   "id": "6db5144d-f54a-4933-b68e-1665e872c23f",
   "metadata": {},
   "outputs": [],
   "source": []
  }
 ],
 "metadata": {
  "kernelspec": {
   "display_name": "Python 3 (ipykernel)",
   "language": "python",
   "name": "python3"
  },
  "language_info": {
   "codemirror_mode": {
    "name": "ipython",
    "version": 3
   },
   "file_extension": ".py",
   "mimetype": "text/x-python",
   "name": "python",
   "nbconvert_exporter": "python",
   "pygments_lexer": "ipython3",
   "version": "3.11.4"
  }
 },
 "nbformat": 4,
 "nbformat_minor": 5
}
